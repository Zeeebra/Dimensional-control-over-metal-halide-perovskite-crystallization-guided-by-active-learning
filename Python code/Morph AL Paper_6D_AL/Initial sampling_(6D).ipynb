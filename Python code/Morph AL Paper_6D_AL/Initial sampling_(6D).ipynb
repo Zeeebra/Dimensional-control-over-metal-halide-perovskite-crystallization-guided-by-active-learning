{
 "cells": [
  {
   "cell_type": "code",
   "execution_count": null,
   "metadata": {},
   "outputs": [],
   "source": [
    "import matplotlib.pyplot as plt\n",
    "import pandas as pd\n",
    "import numpy as np\n",
    "from tqdm import tqdm\n",
    "from Data.datasets import save_obj, load_obj\n",
    "from scipy.optimize import minimize\n",
    "import itertools\n",
    "import sympy as sym\n",
    "\n",
    "# load the homogeneous concentration space\n",
    "R_conc = load_obj('8R homogeneous concentration statespace (Pb2, morph, H2O and FAH constrained)')\n",
    "R_conc_stand = load_obj('8R homogeneous concentration statespace_standardized (Pb2, morph, H2O and FAH constrained)')\n",
    "R_vol = load_obj('8R homogeneous volume statespace (Pb2, morph, H2O and FAH constrained)')"
   ]
  },
  {
   "cell_type": "markdown",
   "metadata": {},
   "source": [
    "### Find initial sampling points"
   ]
  },
  {
   "cell_type": "markdown",
   "metadata": {},
   "source": [
    "#### Initial sampling using kenard stone algorithm"
   ]
  },
  {
   "cell_type": "code",
   "execution_count": null,
   "metadata": {},
   "outputs": [],
   "source": [
    "from Models import sampling\n",
    "\n",
    "k = 48\n",
    "## select initial training data using Kennard-Stone algorithm\n",
    "sample_idx, _ = sampling.kennardstonealgorithm(R_conc_stand, k)\n",
    "\n",
    "# use the sample_idx to select initial sampling from R_conc_exp and R_vol_exp\n",
    "R_conc_stand_init = R_conc_stand.iloc[sample_idx]\n",
    "R_conc_init = R_conc.loc[R_conc_stand_init.index]\n",
    "\n",
    "save_obj(R_conc_stand_init, '8 reagent concentration_initial sampling_standardized')\n",
    "save_obj(R_conc_init, '8 reagent concentration_initial sampling')"
   ]
  },
  {
   "cell_type": "markdown",
   "metadata": {},
   "source": [
    "### Choose initial volume set using the index of R_conc_init"
   ]
  },
  {
   "cell_type": "code",
   "execution_count": null,
   "metadata": {},
   "outputs": [],
   "source": [
    "R_vol_init = R_vol.loc[R_conc_init.index]\n",
    "R_vol_init_a = R_vol_init.iloc[:24]\n",
    "R_vol_init_b = R_vol_init.iloc[24:]\n",
    "save_obj(R_vol_init, '8 reagent volume_initial sampling')"
   ]
  },
  {
   "cell_type": "code",
   "execution_count": null,
   "metadata": {},
   "outputs": [],
   "source": [
    "R_vol_init = load_obj('8 reagent volume_initial sampling')\n",
    "R_vol_init_a = R_vol_init.iloc[:24]\n",
    "R_vol_init_b = R_vol_init.iloc[24:]\n",
    "from Models.expgen import robot_file_gen_R8\n",
    "robot_file_gen_R8(data = R_vol_init_a, filename = '8R_init_ks sampling_robotinput_part_a')\n",
    "robot_file_gen_R8(data = R_vol_init_b, filename = '8R_init_ks sampling_robotinput_part_b')"
   ]
  },
  {
   "cell_type": "code",
   "execution_count": null,
   "metadata": {},
   "outputs": [],
   "source": [
    "# Generate new robot input files\n",
    "df_rbtinput=pd.read_excel('Models/RobotInput_template_8R.xls')\n",
    "\n",
    "pipette_low = \"Tip_50ul_Water_DispenseJet_Empty\"\n",
    "pipette_med = \"StandardVolume_Water_DispenseJet_Empty\"\n",
    "pipette_high = \"HighVolume_Water_DispenseJet_Empty\"\n",
    "\n",
    "df_rbtinput['Reagent1 (ul)'] = np.array(R_vol_init_b['R1']) # pure DMF\n",
    "df_rbtinput['Reagent2 (ul)'] = np.array(R_vol_init_b['R2']) # pure DMSO\n",
    "df_rbtinput['Reagent3 (ul)'] = np.array(R_vol_init_b['R3']) # pure GBL\n",
    "df_rbtinput['Reagent4 (ul)'] = np.array(R_vol_init_b['R4']) # Pb/morph DMF\n",
    "df_rbtinput['Reagent5 (ul)'] = np.array(R_vol_init_b['R5']) # morph DMF\n",
    "df_rbtinput['Reagent7 (ul)'] = np.array(R_vol_init_b['R6']) # formic acid\n",
    "df_rbtinput['Reagent8 (ul)'] = np.array(R_vol_init_b['R7']) # water\n",
    "\n",
    "\n",
    "def liquid_class (vol):\n",
    "    if max(vol) <= 50:\n",
    "        output = pipette_low\n",
    "    elif (max(vol) > 50) & (max(vol) <= 300):\n",
    "        output = pipette_med\n",
    "    elif (max(vol) > 300) & (max(vol) <= 1000):\n",
    "        output = pipette_high\n",
    "    else:\n",
    "        raise ValueError(\"ValueError: volume given is out of range\")\n",
    "    return output\n",
    "\n",
    "df_rbtinput['Liquid Class'][0] = liquid_class(df_rbtinput['Reagent1 (ul)'])\n",
    "df_rbtinput['Liquid Class'][1] = liquid_class(df_rbtinput['Reagent2 (ul)'])\n",
    "df_rbtinput['Liquid Class'][2] = liquid_class(df_rbtinput['Reagent3 (ul)'])\n",
    "df_rbtinput['Liquid Class'][3] = liquid_class(df_rbtinput['Reagent4 (ul)'])\n",
    "df_rbtinput['Liquid Class'][4] = liquid_class(df_rbtinput['Reagent5 (ul)'])\n",
    "df_rbtinput['Liquid Class'][5] = liquid_class(df_rbtinput['Reagent6 (ul)'])\n",
    "df_rbtinput['Liquid Class'][6] = liquid_class(df_rbtinput['Reagent7 (ul)'])\n",
    "df_rbtinput['Liquid Class'][7] = liquid_class(df_rbtinput['Reagent8 (ul)'])\n",
    "df_rbtinput['Liquid Class'][8] = liquid_class(df_rbtinput['Reagent9 (ul)'])\n",
    "\n",
    "df_rbtinput.to_csv('8R_init_ks sampling_robotinput_part_b.csv')"
   ]
  },
  {
   "cell_type": "code",
   "execution_count": null,
   "metadata": {},
   "outputs": [],
   "source": [
    "R_conc_stand_init = load_obj('8 reagent concentration_initial sampling_standardized')\n",
    "R_conc_init = load_obj('8 reagent concentration_initial sampling')"
   ]
  },
  {
   "cell_type": "code",
   "execution_count": null,
   "metadata": {},
   "outputs": [],
   "source": [
    "R_conc_stand_init.to_csv('8R_init_ks sampling_conc_stand.csv')\n",
    "R_conc_init.to_csv('8R_init_ks sampling_conc.csv')"
   ]
  },
  {
   "cell_type": "code",
   "execution_count": null,
   "metadata": {},
   "outputs": [],
   "source": []
  }
 ],
 "metadata": {
  "kernelspec": {
   "display_name": "Python 3",
   "language": "python",
   "name": "python3"
  },
  "language_info": {
   "codemirror_mode": {
    "name": "ipython",
    "version": 3
   },
   "file_extension": ".py",
   "mimetype": "text/x-python",
   "name": "python",
   "nbconvert_exporter": "python",
   "pygments_lexer": "ipython3",
   "version": "3.8.3"
  }
 },
 "nbformat": 4,
 "nbformat_minor": 2
}
