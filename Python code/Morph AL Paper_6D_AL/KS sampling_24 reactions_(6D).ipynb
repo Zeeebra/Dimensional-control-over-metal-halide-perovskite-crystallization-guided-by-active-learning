{
 "cells": [
  {
   "cell_type": "code",
   "execution_count": null,
   "metadata": {},
   "outputs": [],
   "source": [
    "import numpy as np\n",
    "from numpy.random import random\n",
    "from numpy import vstack, hstack\n",
    "import pandas as pd\n",
    "from sklearn.datasets import make_blobs, make_classification\n",
    "from sklearn.ensemble import RandomForestClassifier\n",
    "from sklearn.model_selection import StratifiedShuffleSplit, train_test_split\n",
    "from modAL.models import ActiveLearner\n",
    "from modAL.uncertainty import entropy_sampling, entropy_sampling, margin_sampling\n",
    "from modAL.batch import uncertainty_batch_sampling\n",
    "from modAL.uncertainty import classifier_uncertainty, classifier_margin, classifier_entropy\n",
    "from modAL.utils.selection import multi_argmax\n",
    "from Models import models, plot, sampling, expgen\n",
    "from Data.datasets import save_obj, load_obj, data_preprocess\n",
    "import matplotlib.pyplot as plt\n",
    "import matplotlib.animation as animation\n",
    "from mpl_toolkits.mplot3d import Axes3D\n",
    "from tqdm import tqdm"
   ]
  },
  {
   "cell_type": "markdown",
   "metadata": {},
   "source": [
    "## Import experiment data, state space, and ML model"
   ]
  },
  {
   "cell_type": "code",
   "execution_count": null,
   "metadata": {},
   "outputs": [],
   "source": [
    "# import experiment data (2 initial sampling + 5 active learning)\n",
    "df_std = pd.read_csv('Data/005.morph phase mapping.csv')\n",
    "df_std.index = list(df_std['index'])\n",
    "df_score = df_std.filter(['score'], axis = 1)\n",
    "df_std = df_std.drop(['index', 'score'], axis = 1)\n",
    "print('Total number of labeled training sets', len(df_std))\n",
    "\n",
    "df_pool = load_obj('8R homogeneous concentration statespace (Pb2, morph, H2O and FAH constrained)')\n",
    "df_pool_std = load_obj('8R homogeneous concentration statespace_standardized (Pb2, morph, H2O and FAH constrained)')\n",
    "print('Total number of unlabeled training sets', len(df_pool_std))\n",
    "\n",
    "# load the ML model\n",
    "GPC = load_obj('GPC_best')"
   ]
  },
  {
   "cell_type": "markdown",
   "metadata": {},
   "source": [
    "## KS algorithm: sampling the experimental space with low information density"
   ]
  },
  {
   "cell_type": "raw",
   "metadata": {},
   "source": [
    "# number of query points\n",
    "k = 24\n",
    "\n",
    "from scipy.spatial import distance\n",
    "\n",
    "\n",
    "selected_idx = list(df_std.index)\n",
    "query_idx = list()\n",
    "\n",
    "\n",
    "for iteration in tqdm(range(k)):\n",
    "    \n",
    "    df_selected = df_pool_std.filter(selected_idx, axis = 'index')\n",
    "    df_remained = df_pool_std.drop(selected_idx, axis = 'index')\n",
    "    remained_idx = list(df_remained.index)\n",
    "    dist_to_selected = distance.cdist(df_remained, df_selected, metric = 'euclidean')\n",
    "    min_dist_to_selected = []\n",
    "    for i in range(len(df_remained)):\n",
    "        min_dist_to_selected.append(np.min(dist_to_selected[i]))\n",
    "        \n",
    "    query_idx.append(remained_idx[np.argmax(min_dist_to_selected)])\n",
    "    selected_idx.append(remained_idx[np.argmax(min_dist_to_selected)])"
   ]
  },
  {
   "cell_type": "raw",
   "metadata": {},
   "source": [
    "# Constructure concentration and volume dataframe using query index (quer_idx)\n",
    "df_pool_query = df_pool.loc[query_idx]\n",
    "df_pool_std_query = df_pool_std.loc[query_idx]\n",
    "df_pool_query_vol = load_obj('8R homogeneous volume statespace (Pb2, morph, H2O and FAH constrained)').loc[query_idx]\n",
    "# Save concentration dataframes\n",
    "save_obj(df_pool_query,\"8 reagent concentration_6th_KS\")\n",
    "save_obj(df_pool_std_query,\"8 reagent concentration_6th_standardized_KS\")"
   ]
  },
  {
   "cell_type": "markdown",
   "metadata": {},
   "source": [
    "### Plot query points"
   ]
  },
  {
   "cell_type": "code",
   "execution_count": null,
   "metadata": {},
   "outputs": [],
   "source": [
    "df_query = load_obj(\"8 reagent concentration_6th_standardized_KS\")\n",
    "query_idx = list(df_query.index)\n",
    "df_score_6 = pd.read_csv('Data/6th KS_score.csv')\n",
    "df_score_6.index = list(df_score_6['Index'])\n",
    "df_score_6 = df_score_6.drop(['Index'], axis = 1)\n",
    "\n",
    "df_pool_tSNE = pd.DataFrame(columns = ['dim 1', 'dim 2'], index = df_pool.index, data = (load_obj('tSNE_5th_50'))[:-168])\n",
    "df_tSNE = df_pool_tSNE.filter(df_std.index, axis=0)\n",
    "\n",
    "df_query_tSNE = df_pool_tSNE.filter(query_idx, axis=0)"
   ]
  },
  {
   "cell_type": "code",
   "execution_count": null,
   "metadata": {},
   "outputs": [],
   "source": [
    "# plot the t-SNE for the kS sampling\n",
    "%matplotlib notebook\n",
    "\n",
    "fig = plt.figure(figsize = (6,6))\n",
    "ax = fig.add_subplot()\n",
    "\n",
    "clist = ['blue','green','red','orange']\n",
    "slist = [40, 40, 40, 40]\n",
    "alphalist = [1,1,1,1]\n",
    "\n",
    "for i in range(4):\n",
    "    ax.scatter(df_tSNE['dim 1'][df_score['score'] == i+1], \\\n",
    "               df_tSNE['dim 2'][df_score['score'] == i+1], \\\n",
    "               c = clist[i], \\\n",
    "               s = slist[i], alpha = alphalist[i])\n",
    "    \n",
    "ax.scatter(df_query_tSNE['dim 1'], df_query_tSNE['dim 2'], \\\n",
    "           facecolors='none', edgecolors='black', linewidths = 1.5, s = 40)\n",
    "\n",
    "plt.xlabel('t-SNE dim 1')\n",
    "plt.ylabel('t-SNE dim 2')"
   ]
  },
  {
   "cell_type": "code",
   "execution_count": null,
   "metadata": {},
   "outputs": [],
   "source": [
    "%matplotlib notebook\n",
    "\n",
    "fig = plt.figure(figsize = (10,10))\n",
    "ax = fig.add_subplot()\n",
    "\n",
    "clist = ['blue','green','red','orange']\n",
    "\n",
    "for i in range(4):\n",
    "    ax.scatter(df_tSNE['dim 1'][df_score['score'] == i+1], \\\n",
    "               df_tSNE['dim 2'][df_score['score'] == i+1], \\\n",
    "               c = clist[i], \\\n",
    "               s = 60, alpha = 1)\n",
    "    \n",
    "for i in range(4):   \n",
    "    ax.scatter(df_query_tSNE['dim 1'][df_score_6['score'] == i+1], \\\n",
    "               df_query_tSNE['dim 2'][df_score_6['score'] == i+1], \\\n",
    "               facecolors='none', edgecolors=clist[i], linewidths = 1.5, s = 60)\n",
    "\n",
    "plt.xlim(-35,35)\n",
    "plt.ylim(-35,35)\n",
    "plt.xlabel('t-SNE dim 1')\n",
    "plt.ylabel('t-SNE dim 2')\n",
    "plt.savefig('Graphs/5AL_with KS exp marked_tSNE.svg', format = 'svg', transparent = True)"
   ]
  },
  {
   "cell_type": "markdown",
   "metadata": {},
   "source": [
    "### Generate experiments"
   ]
  },
  {
   "cell_type": "code",
   "execution_count": null,
   "metadata": {},
   "outputs": [],
   "source": [
    "from Models.expgen import robot_file_gen_R8\n",
    "robot_file_gen_R8(data = df_pool_query_vol, filename = '8R_6thKS_robotinput')"
   ]
  },
  {
   "cell_type": "code",
   "execution_count": null,
   "metadata": {},
   "outputs": [],
   "source": [
    "df_pool_query_vol"
   ]
  },
  {
   "cell_type": "markdown",
   "metadata": {},
   "source": [
    "### Prediction accuracy of ML trained by 5 AL iterations on 6th (KS) exp."
   ]
  },
  {
   "cell_type": "code",
   "execution_count": null,
   "metadata": {},
   "outputs": [],
   "source": [
    "# Calculate the prediction accuracy\n",
    "\n",
    "GPC.fit(df_std, df_score)\n",
    "pred_accuracy = GPC.score(df_query, df_score_6)\n",
    "    \n",
    "print('*'*20)\n",
    "print('Prediction accuracy is ', pred_accuracy)\n",
    "print('*'*20)"
   ]
  },
  {
   "cell_type": "code",
   "execution_count": null,
   "metadata": {},
   "outputs": [],
   "source": [
    "df_query_6_predict = GPC.predict(df_query)\n",
    "df_query_6_predict"
   ]
  },
  {
   "cell_type": "code",
   "execution_count": null,
   "metadata": {},
   "outputs": [],
   "source": [
    "df_score_6.values.ravel()"
   ]
  },
  {
   "cell_type": "code",
   "execution_count": null,
   "metadata": {},
   "outputs": [],
   "source": [
    "import pandas as pd\n",
    "import seaborn as sn\n",
    "import matplotlib.pyplot as plt\n",
    "\n",
    "%matplotlib notebook\n",
    "confusion_matrix = pd.crosstab(df_score_6.values.ravel(), df_query_6_predict, rownames=['Exp outcomes'], colnames=['Predicted'])\n",
    "\n",
    "sn.heatmap(confusion_matrix, cmap=\"YlGnBu\", annot=True)\n",
    "plt.show()\n",
    "plt.savefig('Graphs/Confusion matrix of KS sampling exp.svg', format = \"svg\", transparent=True)"
   ]
  },
  {
   "cell_type": "code",
   "execution_count": null,
   "metadata": {},
   "outputs": [],
   "source": [
    "RF = load_obj('RandomForestClassifier_best')"
   ]
  },
  {
   "cell_type": "code",
   "execution_count": null,
   "metadata": {},
   "outputs": [],
   "source": [
    "# Calculate the prediction accuracy\n",
    "\n",
    "RF.fit(df_std, df_score)\n",
    "pred_accuracy_RF = RF.score(df_query, df_score_6)\n",
    "    \n",
    "print('*'*20)\n",
    "print('Prediction accuracy is ', pred_accuracy)\n",
    "print('*'*20)"
   ]
  },
  {
   "cell_type": "code",
   "execution_count": null,
   "metadata": {},
   "outputs": [],
   "source": [
    "df_query_6_predict_RF = RF.predict(df_query)\n",
    "df_query_6_predict_RF"
   ]
  },
  {
   "cell_type": "code",
   "execution_count": null,
   "metadata": {},
   "outputs": [],
   "source": [
    "df_score_6.values.ravel()"
   ]
  },
  {
   "cell_type": "code",
   "execution_count": null,
   "metadata": {},
   "outputs": [],
   "source": [
    "df_query_6_predict"
   ]
  },
  {
   "cell_type": "code",
   "execution_count": null,
   "metadata": {},
   "outputs": [],
   "source": [
    "df_query_6_predict == df_query_6_predict_RF"
   ]
  },
  {
   "cell_type": "code",
   "execution_count": null,
   "metadata": {},
   "outputs": [],
   "source": []
  }
 ],
 "metadata": {
  "kernelspec": {
   "display_name": "Python 3",
   "language": "python",
   "name": "python3"
  },
  "language_info": {
   "codemirror_mode": {
    "name": "ipython",
    "version": 3
   },
   "file_extension": ".py",
   "mimetype": "text/x-python",
   "name": "python",
   "nbconvert_exporter": "python",
   "pygments_lexer": "ipython3",
   "version": "3.8.3"
  },
  "varInspector": {
   "cols": {
    "lenName": 16,
    "lenType": 16,
    "lenVar": 40
   },
   "kernels_config": {
    "python": {
     "delete_cmd_postfix": "",
     "delete_cmd_prefix": "del ",
     "library": "var_list.py",
     "varRefreshCmd": "print(var_dic_list())"
    },
    "r": {
     "delete_cmd_postfix": ") ",
     "delete_cmd_prefix": "rm(",
     "library": "var_list.r",
     "varRefreshCmd": "cat(var_dic_list()) "
    }
   },
   "types_to_exclude": [
    "module",
    "function",
    "builtin_function_or_method",
    "instance",
    "_Feature"
   ],
   "window_display": false
  }
 },
 "nbformat": 4,
 "nbformat_minor": 2
}
