{
 "cells": [
  {
   "cell_type": "markdown",
   "metadata": {},
   "source": [
    "### Calculate the reagent volume state space from the concentration state space (the reaction pool). With the volume state space, we can easily find the volumes of reagents for each AL iteration."
   ]
  },
  {
   "cell_type": "code",
   "execution_count": null,
   "metadata": {},
   "outputs": [],
   "source": [
    "import matplotlib.pyplot as plt\n",
    "import pandas as pd\n",
    "import numpy as np\n",
    "from tqdm import tqdm\n",
    "from Data.datasets import save_obj, load_obj\n",
    "import itertools\n",
    "\n",
    "# load the homogeneous concentration space\n",
    "R_conc = load_obj('8R homogeneous concentration statespace (Pb2, morph, H2O and FAH constrained)')\n",
    "R_vol = pd.DataFrame(columns = ['R1','R2','R3','R4','R5','R6','R7'], index = R_conc.index)"
   ]
  },
  {
   "cell_type": "code",
   "execution_count": null,
   "metadata": {},
   "outputs": [],
   "source": [
    "R_vol['R6'] = R_conc['FAH']*(300/1000)*(46/1.22) # R6 is the volume of formic acid\n",
    "R_vol['R7'] = R_conc['H2O']*(300/1000)*(18/0.998) # R7 is the volume of water\n",
    "R_vol['R4'] = (R_conc['Pb']*300)/2.32 # R4 is the volume of lead iodide+morpholinium iodide DMF solution\n",
    "R_vol['R5'] = ((R_conc['morph']*300)-(R_vol['R4']*2.91))/2.36 # R5 is the volume of morpholinium iodide only DMF solution\n",
    "R_vol['R1+R2+R3'] = 300-(R_vol['R4']+R_vol['R5']+R_vol['R6']+R_vol['R7']) \n",
    "R_vol['R2'] = R_conc['DMSO']*(R_vol['R1+R2+R3']+(0.494*R_vol['R4'])+(0.731*R_vol['R5'])) # R2 is the volume of pure DMSO\n",
    "R_vol['R3'] = R_conc['GBL']*(R_vol['R1+R2+R3']+(0.494*R_vol['R4'])+(0.731*R_vol['R5'])) # R3 is the volume of pure GBL\n",
    "R_vol['R1'] = R_vol['R1+R2+R3']-R_vol['R2']-R_vol['R3'] # R1 is the volume of pure DMF\n",
    "R_vol = R_vol.drop(['R1+R2+R3'], axis=1)\n",
    "R_vol = round(R_vol)\n",
    "####################\n",
    "print('Are all volumes positive values?', (R_vol >= 0).all().all()) # sanity check"
   ]
  },
  {
   "cell_type": "code",
   "execution_count": null,
   "metadata": {},
   "outputs": [],
   "source": [
    "# Now back calculate the concentration space to validate concentration-volume conversion\n",
    "# Below are concentrations for each reagent: _a is PbI2, _b is morph, _c is solvent vol fraction (e.g. DMSO / DMSO solution)\n",
    "############\n",
    "R4_a = 2.32\n",
    "R4_b = 2.91\n",
    "R4_c = 0.494\n",
    "############\n",
    "R5 = 2.36\n",
    "R5_c = 0.731\n",
    "############\n",
    "R_conc_val = pd.DataFrame()\n",
    "\n",
    "R_conc_val['Pb'] = (R_vol['R4']*R4_a)/300\n",
    "\n",
    "R_conc_val['morph'] = (R_vol['R4']*R4_b + R_vol['R5']*R5)/300\n",
    "\n",
    "# Total volume of solvents...it is NOT equal to the total volume of solution, which is set to 300 uL.\n",
    "totvol_solv = R_vol['R1'] + R_vol['R2'] + R_vol['R3']\\\n",
    "              + R_vol['R4']*R4_c + R_vol['R5']*R5_c\n",
    "\n",
    "# solvent/solvents volume fraction: e.g., vol[DMSO]/(vol)\n",
    "R_conc_val['DMSO'] = R_vol['R2']/totvol_solv\n",
    "R_conc_val['GBL'] = R_vol['R3']/totvol_solv\n",
    "\n",
    "R_conc_val['FAH'] = ((R_vol['R6']*1.22)/46)/(300/1000)\n",
    "R_conc_val['H2O'] = ((R_vol['R7']*0.998)/18)/(300/1000)\n",
    "\n",
    "R_conc_val = R_conc_val.fillna(0)\n",
    "\n",
    "err_conc = R_conc_val-R_conc"
   ]
  },
  {
   "cell_type": "code",
   "execution_count": null,
   "metadata": {},
   "outputs": [],
   "source": [
    "print('Pb conc error in M', max(err_conc['Pb']))\n",
    "print('morph conc error in M', max(err_conc['morph']))\n",
    "print('DMSO conc error in fraction', max(err_conc['DMSO']))\n",
    "print('GBL conc error in fraction', max(err_conc['GBL']))\n",
    "print('formic acid conc error in M', max(err_conc['FAH']))\n",
    "print('water conc error in M', max(err_conc['H2O']))"
   ]
  },
  {
   "cell_type": "code",
   "execution_count": null,
   "metadata": {},
   "outputs": [],
   "source": [
    "save_obj(R_vol, '8R homogeneous volume statespace (Pb2, morph, H2O and FAH constrained)')\n",
    "save_obj(err_conc, '8R homogeneous concentration statespace_error(from volume) (Pb2, morph, H2O and FAH constrained)')"
   ]
  }
 ],
 "metadata": {
  "kernelspec": {
   "display_name": "Python 3",
   "language": "python",
   "name": "python3"
  },
  "language_info": {
   "codemirror_mode": {
    "name": "ipython",
    "version": 3
   },
   "file_extension": ".py",
   "mimetype": "text/x-python",
   "name": "python",
   "nbconvert_exporter": "python",
   "pygments_lexer": "ipython3",
   "version": "3.8.3"
  }
 },
 "nbformat": 4,
 "nbformat_minor": 2
}
