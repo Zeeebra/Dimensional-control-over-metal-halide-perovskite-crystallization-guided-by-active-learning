{
 "cells": [
  {
   "cell_type": "code",
   "execution_count": null,
   "metadata": {},
   "outputs": [],
   "source": [
    "import numpy as np\n",
    "from numpy.random import random\n",
    "from numpy import vstack, hstack\n",
    "import pandas as pd\n",
    "from sklearn.datasets import make_blobs, make_classification\n",
    "from sklearn.ensemble import RandomForestClassifier\n",
    "from sklearn.model_selection import StratifiedShuffleSplit, train_test_split\n",
    "from modAL.models import ActiveLearner\n",
    "from modAL.uncertainty import entropy_sampling, entropy_sampling, margin_sampling\n",
    "from modAL.batch import uncertainty_batch_sampling\n",
    "from modAL.uncertainty import classifier_uncertainty, classifier_margin, classifier_entropy\n",
    "from modAL.utils.selection import multi_argmax\n",
    "from Models import models, plot, sampling, expgen\n",
    "from Data.datasets import save_obj, load_obj, data_preprocess\n",
    "import matplotlib.pyplot as plt\n",
    "import matplotlib.animation as animation\n",
    "from mpl_toolkits.mplot3d import Axes3D"
   ]
  },
  {
   "cell_type": "code",
   "execution_count": null,
   "metadata": {},
   "outputs": [],
   "source": [
    "# Import datasets, model, and number of reactions in eachiteration\n",
    "df_std = pd.read_csv('Data/006.morph phase mapping.csv')\n",
    "df_std.index = list(df_std['index'])\n",
    "df_score = df_std.filter(['score'], axis = 1)\n",
    "df_std = df_std.drop(['index', 'score'], axis = 1)\n",
    "\n",
    "df_pool_std = load_obj('8R homogeneous concentration statespace_standardized (Pb2, morph, H2O and FAH constrained)')\n",
    "\n",
    "iteration = [48, 72, 96, 120, 144, 168, 192]\n",
    "# load the ML model\n",
    "cf = load_obj('RandomForestClassifier_best')"
   ]
  },
  {
   "cell_type": "code",
   "execution_count": null,
   "metadata": {},
   "outputs": [],
   "source": [
    "# Calculate prediction confidence (average)\n",
    "pred_confid = []\n",
    "for i in range(len(iteration)):\n",
    "    cf.fit(df_std[:iteration[i]], df_score[:iteration[i]])\n",
    "    confidence = classifier_margin(cf, df_pool_std)\n",
    "    avg_confid = sum(confidence)/len(confidence)\n",
    "    \n",
    "    pred_confid.append(avg_confid)\n",
    "print('*'*20)\n",
    "print('Prediction confidence is ', pred_confid)\n",
    "print('*'*20)"
   ]
  },
  {
   "cell_type": "code",
   "execution_count": null,
   "metadata": {},
   "outputs": [],
   "source": [
    "# Calculate overall uncertainty (average uncertainty)\n",
    "avg_uncert = []\n",
    "for i in range(len(iteration)):\n",
    "    cf.fit(df_std[:iteration[i]], df_score[:iteration[i]])\n",
    "    uncert = classifier_uncertainty(cf,df_pool_std)\n",
    "    avg_uncert.append(sum(uncert)/len(uncert))\n",
    "    \n",
    "print('*'*20)\n",
    "print('Overall uncertainty is ', avg_uncert)\n",
    "print('*'*20)"
   ]
  },
  {
   "cell_type": "code",
   "execution_count": null,
   "metadata": {},
   "outputs": [],
   "source": []
  }
 ],
 "metadata": {
  "kernelspec": {
   "display_name": "Python 3",
   "language": "python",
   "name": "python3"
  },
  "language_info": {
   "codemirror_mode": {
    "name": "ipython",
    "version": 3
   },
   "file_extension": ".py",
   "mimetype": "text/x-python",
   "name": "python",
   "nbconvert_exporter": "python",
   "pygments_lexer": "ipython3",
   "version": "3.8.3"
  }
 },
 "nbformat": 4,
 "nbformat_minor": 2
}
