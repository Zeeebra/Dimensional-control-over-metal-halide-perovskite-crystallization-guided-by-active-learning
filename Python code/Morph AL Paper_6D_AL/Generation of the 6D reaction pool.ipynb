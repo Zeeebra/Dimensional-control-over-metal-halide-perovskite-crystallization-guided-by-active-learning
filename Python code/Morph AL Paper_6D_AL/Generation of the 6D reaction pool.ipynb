{
 "cells": [
  {
   "cell_type": "markdown",
   "metadata": {},
   "source": [
    "### Generate concentration state set (the reaction pool) in 6D within the concentration constraints"
   ]
  },
  {
   "cell_type": "code",
   "execution_count": null,
   "metadata": {},
   "outputs": [],
   "source": [
    "import matplotlib.pyplot as plt\n",
    "import pandas as pd\n",
    "import numpy as np\n",
    "from tqdm import tqdm\n",
    "from Data.datasets import save_obj, load_obj\n",
    "import itertools\n",
    "\n",
    "# listed extreme volume conditions, total volumes of each solution is 300 uL\n",
    "R_vol_vertice = np.diag(np.array([300]*7))\n",
    "# R1: DMF, R2:DMSO, R3:GBL, R4:morph/Pb in DMF, R5:morph in DMF, R6:FAH, R7:H2O, R8:DCM (R8 is separate vial, not counted for total solution volume)\n",
    "R_vol_vertice = pd.DataFrame(columns = ['R1','R2','R3','R4','R5','R6','R7'], data = R_vol_vertice)"
   ]
  },
  {
   "cell_type": "code",
   "execution_count": null,
   "metadata": {},
   "outputs": [],
   "source": [
    "# Calculate the extreme concentration conditions resulting from extreme volume conditions.\n",
    "R_conc_vertice = pd.DataFrame()\n",
    "\n",
    "# Below are concentrations for each reagent: _a is PbI2, _b is morph, _c is solvent vol fraction (e.g. DMSO / DMSO solution)\n",
    "############\n",
    "R4_a = 2.32\n",
    "R4_b = 2.91\n",
    "R4_c = 0.494\n",
    "############\n",
    "R5 = 2.36\n",
    "R5_c = 0.731\n",
    "############\n",
    "\n",
    "R_conc_vertice['Pb'] = (R_vol_vertice['R4']*R4_a)/300\n",
    "\n",
    "R_conc_vertice['morph'] = (R_vol_vertice['R4']*R4_b + R_vol_vertice['R5']*R5)/300\n",
    "\n",
    "# Total volume of solvents...it is NOT equal to the total volume of solution, which is set to 300 uL.\n",
    "totvol_solv = R_vol_vertice['R1'] + R_vol_vertice['R2'] + R_vol_vertice['R3']\\\n",
    "              + R_vol_vertice['R4']*R4_c + R_vol_vertice['R5']*R5_c\n",
    "\n",
    "# solvent/solvents volume fraction: e.g., vol[DMSO]/(vol)\n",
    "R_conc_vertice['DMSO'] = R_vol_vertice['R2']/totvol_solv\n",
    "R_conc_vertice['GBL'] = R_vol_vertice['R3']/totvol_solv\n",
    "\n",
    "R_conc_vertice['FAH'] = ((R_vol_vertice['R6']*1.22)/46)/(300/1000)\n",
    "R_conc_vertice['H2O'] = ((R_vol_vertice['R7']*0.998)/18)/(300/1000)\n",
    "\n",
    "R_conc_vertice = R_conc_vertice.fillna(0)"
   ]
  },
  {
   "cell_type": "code",
   "execution_count": null,
   "metadata": {},
   "outputs": [],
   "source": [
    "R_vol_vertice"
   ]
  },
  {
   "cell_type": "code",
   "execution_count": null,
   "metadata": {},
   "outputs": [],
   "source": [
    "R_conc_vertice"
   ]
  },
  {
   "cell_type": "markdown",
   "metadata": {},
   "source": [
    "### Calculate the convexhull"
   ]
  },
  {
   "cell_type": "code",
   "execution_count": null,
   "metadata": {},
   "outputs": [],
   "source": [
    "from scipy.spatial import ConvexHull\n",
    "import matplotlib as mpl\n",
    "from matplotlib.font_manager import FontProperties\n",
    "from mpl_toolkits.mplot3d import Axes3D\n",
    "from mpl_toolkits.mplot3d.art3d import Poly3DCollection, Line3DCollection\n",
    "\n",
    "# Calculate the convexhull of extreme concentration conditions (R_conc_vertice)\n",
    "convexhull = ConvexHull(R_conc_vertice)\n",
    "# number of facets of convexhull, note: \"convexhull.simplices\" only gives the indice of points\n",
    "n_facet = np.shape(convexhull.simplices)[0]\n",
    "\n",
    "# Calculate the facets in the convexhull,\n",
    "# and the facets is constructed as number of facets X number of points per facets X number of coordinations per points.\n",
    "facets = np.zeros((n_facet,6,6))\n",
    "for i in range(n_facet):\n",
    "    for j in range(6):\n",
    "        facets[i][j] = R_conc_vertice.iloc[convexhull.simplices[i][j]]\n",
    "\n",
    "# Sanity check: make sure that the vertices of the convexhull are extreme concentration conditions. \n",
    "vertices = convexhull.points[convexhull.vertices] # it is np.array\n",
    "vertices = pd.DataFrame(columns = R_conc_vertice.columns, data = vertices) # converted to dataframe\n",
    "print('The vertices of the convexhull are extreme concentration conditions?')\n",
    "all(vertices == R_conc_vertice)"
   ]
  },
  {
   "cell_type": "markdown",
   "metadata": {},
   "source": [
    "### Generate the grid points"
   ]
  },
  {
   "cell_type": "code",
   "execution_count": null,
   "metadata": {},
   "outputs": [],
   "source": [
    "### Define functions to 1. generate grid points in a hypercube. 2. check if points in convexhulls.\n",
    "\n",
    "# Generate meshgrid points of certain size and location\n",
    "def gridgen(n=[10]*6,x1=[0,3],x2=[0,4],x3=[0,10],x4=[0,3],x5=[0,3],x6=[0,3]):\n",
    "    a = np.linspace(x1[0],x1[1],n[0])\n",
    "    b = np.linspace(x2[0],x2[1],n[1])\n",
    "    c = np.linspace(x3[0],x3[1],n[2])\n",
    "    d = np.linspace(x4[0],x4[1],n[3])\n",
    "    e = np.linspace(x5[0],x5[1],n[4])\n",
    "    f = np.linspace(x6[0],x6[1],n[5])\n",
    "    \n",
    "    points = np.zeros((n[0]*n[1]*n[2]*n[3]*n[4]*n[5],6))\n",
    "    x1v,x2v,x3v,x4v,x5v,x6v = np.meshgrid(a,b,c,d,e,f)\n",
    "    x1v = x1v.flatten()\n",
    "    x2v = x2v.flatten()\n",
    "    x3v = x3v.flatten()\n",
    "    x4v = x4v.flatten()\n",
    "    x5v = x5v.flatten()\n",
    "    x6v = x6v.flatten()\n",
    "\n",
    "    for i in tqdm(range(n[0]*n[1]*n[2]*n[3]*n[4]*n[5])):\n",
    "        points[i] = [x1v[i], x2v[i], x3v[i], x4v[i], x5v[i], x6v[i]]\n",
    "    return points\n",
    "\n",
    "# Check if point is in convexhull\n",
    "def point_in_hull(point, hull, tolerance = 1e-12):\n",
    "    return all((np.dot(equ[:-1],point) + equ[-1] <= tolerance) for equ in hull.equations)"
   ]
  },
  {
   "cell_type": "code",
   "execution_count": null,
   "metadata": {},
   "outputs": [],
   "source": [
    "# Generate grid points in the ranges of concentration limits in a 6D space\n",
    "Pb_range = [min(vertices['Pb']),max(vertices['Pb'])]\n",
    "morph_range = [min(vertices['morph']),max(vertices['morph'])]\n",
    "DMSO_range = [min(vertices['DMSO']),max(vertices['DMSO'])]\n",
    "GBL_range = [min(vertices['GBL']),max(vertices['GBL'])]\n",
    "FAH_range = [min(vertices['FAH']),max(vertices['FAH'])]\n",
    "H2O_range = [min(vertices['H2O']),max(vertices['H2O'])]\n",
    "\n",
    "FAH_conc_lim = 16 # we used the maximam concentration of formic acid for most of our study\n",
    "H2O_conc_lim = 13.5 # it is approximately 25% water, more than 25% of water could result in bilayer when DCM diffuse into the solution.\n",
    "\n",
    "n = 20 # number of interval for pb, morph, dmso, gbl, which concentrations are not constrained\n",
    "n_FAH = int(FAH_range[1]/FAH_conc_lim*n) # number of interval for n_FAH\n",
    "n_H2O = int(H2O_range[1]/H2O_conc_lim*n) # number of interval for n_H2O\n",
    "\n",
    "# Generate meshgrid point\n",
    "grid_points = gridgen(n=[n,n,n,n,n_FAH,n_H2O], x1 = Pb_range, x2 = morph_range, x3 = DMSO_range, \\\n",
    "                      x4 = GBL_range, x5 = FAH_range, x6 = H2O_range)\n",
    "print(\"Finished generating grid points in 6D space\")\n",
    "print(\"*\"*20)"
   ]
  },
  {
   "cell_type": "code",
   "execution_count": null,
   "metadata": {},
   "outputs": [],
   "source": [
    "# Search and plot meshgrid points in the convexhull\n",
    "point_in_box = []\n",
    "\n",
    "for j in tqdm(grid_points):\n",
    "    if point_in_hull(j, convexhull):\n",
    "        point_in_box.append(list(j))\n",
    "point_in_box = np.array(point_in_box)"
   ]
  },
  {
   "cell_type": "code",
   "execution_count": null,
   "metadata": {},
   "outputs": [],
   "source": [
    "# Generate concentration state space\n",
    "R_conc_statespace = pd.DataFrame(columns = R_conc_vertice.columns, data = point_in_box)\n",
    "R_conc_statespace = R_conc_statespace.loc[(R_conc_statespace['morph'] != 0) & (R_conc_statespace['Pb'] != 0)]\n",
    "R_conc_statespace = R_conc_statespace.loc[(R_conc_statespace['FAH'] <= FAH_conc_lim) & \\\n",
    "                                              (R_conc_statespace['H2O'] <= H2O_conc_lim)]\n",
    "\n",
    "save_obj(grid_points, '8R homogeneous concentration grid points')\n",
    "save_obj(R_conc_statespace, '8R homogeneous concentration statespace (Pb2, morph, H2O and FAH constrained)')"
   ]
  },
  {
   "cell_type": "code",
   "execution_count": null,
   "metadata": {},
   "outputs": [],
   "source": [
    "R_conc_statespace"
   ]
  },
  {
   "cell_type": "markdown",
   "metadata": {},
   "source": [
    "### Plot the state space in 3D"
   ]
  },
  {
   "cell_type": "code",
   "execution_count": null,
   "metadata": {},
   "outputs": [],
   "source": [
    "R_conc_statespace = load_obj('8R homogeneous concentration statespace (Pb2, morph, H2O and FAH constrained)')"
   ]
  },
  {
   "cell_type": "code",
   "execution_count": null,
   "metadata": {},
   "outputs": [],
   "source": [
    "### Visualize data points in 3D space\n",
    "from Models import plot\n",
    "import matplotlib.pyplot as plt\n",
    "import pandas as pd\n",
    "import numpy as np\n",
    "from tqdm import tqdm\n",
    "from Data.datasets import save_obj, load_obj\n",
    "import itertools\n",
    "\n",
    "\n",
    "df_plot = R_conc_statespace.filter(['DMSO','GBL','H2O'])\n",
    "df_plot['crystal score'] = [5]*(R_conc_statespace.shape[0])\n",
    "df_plot = df_plot.drop_duplicates()\n",
    "\n",
    "%matplotlib notebook\n",
    "plot.plot3d2d(point=np.array(df_plot), x_range = [0, 1], y_range = [0, 1], z_range = [0, 16], \\\n",
    "              xy_loc = -8, xz_loc = 0.5, yz_loc = -1,\\\n",
    "              x_step = 0.2, y_step = 0.2, z_step = 2, elev = 30, azim = -60, name = '8R_DMSO_GBL_H2O')"
   ]
  },
  {
   "cell_type": "code",
   "execution_count": null,
   "metadata": {},
   "outputs": [],
   "source": [
    "from sklearn.preprocessing import StandardScaler\n",
    "# Get standardization function and save it.\n",
    "std_scaler = StandardScaler().fit(R_conc_statespace)\n",
    "save_obj(std_scaler,'std_scaler_8 reagent')\n",
    "\n",
    "# Create a standardized copy of concentration state space (remove high h2o and fomic acid) for machine learning modeling\n",
    "R_conc_statespace_scal = std_scaler.transform(R_conc_statespace)\n",
    "R_conc_statespace_scal = pd.DataFrame(columns = R_conc_statespace.columns, \\\n",
    "                                      index = R_conc_statespace.index, \\\n",
    "                                      data = R_conc_statespace_scal)\n",
    "save_obj(R_conc_statespace_scal, \\\n",
    "         '8R homogeneous concentration statespace_standardized (Pb2, morph, H2O and FAH constrained)')"
   ]
  },
  {
   "cell_type": "code",
   "execution_count": null,
   "metadata": {},
   "outputs": [],
   "source": [
    "(np.array(R_conc_statespace).size * np.array(R_conc_statespace).itemsize)/1024/1024"
   ]
  },
  {
   "cell_type": "code",
   "execution_count": null,
   "metadata": {},
   "outputs": [],
   "source": []
  }
 ],
 "metadata": {
  "kernelspec": {
   "display_name": "Python 3",
   "language": "python",
   "name": "python3"
  },
  "language_info": {
   "codemirror_mode": {
    "name": "ipython",
    "version": 3
   },
   "file_extension": ".py",
   "mimetype": "text/x-python",
   "name": "python",
   "nbconvert_exporter": "python",
   "pygments_lexer": "ipython3",
   "version": "3.8.3"
  }
 },
 "nbformat": 4,
 "nbformat_minor": 2
}
