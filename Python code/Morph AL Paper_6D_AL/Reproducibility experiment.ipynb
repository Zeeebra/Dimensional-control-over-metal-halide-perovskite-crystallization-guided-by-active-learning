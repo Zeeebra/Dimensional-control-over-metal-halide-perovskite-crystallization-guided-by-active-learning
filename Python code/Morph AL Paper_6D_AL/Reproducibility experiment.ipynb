{
 "cells": [
  {
   "cell_type": "markdown",
   "metadata": {},
   "source": [
    "### After t-SNE visualization of the 144 datasets collected (4 AL learning runs included),\n",
    "### we found the dataset are not structured or grouped in the regard of outcome classes.\n",
    "### So, I decided to reproduce 24 reactions randomly picked up from the 144 reactions."
   ]
  },
  {
   "cell_type": "code",
   "execution_count": null,
   "metadata": {},
   "outputs": [],
   "source": [
    "import numpy as np\n",
    "from numpy.random import random\n",
    "from numpy import vstack, hstack\n",
    "import pandas as pd\n",
    "from Data.datasets import save_obj, load_obj, data_preprocess\n",
    "import matplotlib.pyplot as plt\n",
    "import matplotlib.animation as animation\n",
    "from mpl_toolkits.mplot3d import Axes3D\n",
    "from sklearn.preprocessing import StandardScaler"
   ]
  },
  {
   "cell_type": "code",
   "execution_count": null,
   "metadata": {},
   "outputs": [],
   "source": [
    "# import concentration dataframe of all tested 144 reactions after 4th AL\n",
    "df_tested = pd.read_csv('Data/004.morph phase mapping.csv')\n",
    "df_tested.index = list(df_tested['index'])\n",
    "df_tested = df_tested.drop(['index'], axis = 1)\n",
    "\n",
    "# import volume space\n",
    "df_pool_vol = load_obj('8R homogeneous volume statespace (Pb2, morph, H2O and FAH constrained)')"
   ]
  },
  {
   "cell_type": "code",
   "execution_count": null,
   "metadata": {},
   "outputs": [],
   "source": [
    "# randomly pick up 24 reactions from the 144 completed reactions\n",
    "np.random.seed(42)\n",
    "rdm_num = np.random.choice(range(len(df_tested)), size = 24) # generate random number from 0-23\n",
    "query = df_tested.iloc[rdm_num.ravel()]\n",
    "query = query.drop(['score'], axis = 1)\n",
    "save_obj (query, \"8 reagent concentration_repeat24_after4AL\")\n",
    "query_idx = query.index"
   ]
  },
  {
   "cell_type": "markdown",
   "metadata": {},
   "source": [
    "### Generate experiments"
   ]
  },
  {
   "cell_type": "code",
   "execution_count": null,
   "metadata": {},
   "outputs": [],
   "source": [
    "from Models.expgen import robot_file_gen_R8\n",
    "df_pool_query_vol = df_pool_vol.loc[query_idx] # locate volume entry using query index\n",
    "robot_file_gen_R8(data = df_pool_query_vol, filename = '8R_repeat24_after4AL_robotinput')"
   ]
  },
  {
   "cell_type": "markdown",
   "metadata": {},
   "source": [
    "### Check reproducility"
   ]
  },
  {
   "cell_type": "code",
   "execution_count": null,
   "metadata": {},
   "outputs": [],
   "source": [
    "# generate the dataframe of original experiment scores\n",
    "df_orig = load_obj(\"8 reagent concentration_repeat24_after4AL\")\n",
    "df_orig_score = df_tested.filter(list(df_orig.index), axis = 0)\n",
    "df_orig_score = df_orig_score.filter(['score'], axis = 1)\n",
    "\n",
    "# generate the dataframe of reproducibility experiment scores\n",
    "df_rep_score = pd.read_csv('Data/rep_score.csv')\n",
    "df_rep_score.index = list(df_rep_score['Index'])\n",
    "df_rep_score = df_rep_score.drop(['Index'], axis = 1)\n",
    "\n",
    "print(\"original exp index match reproducibility exp index?\", all(df_orig_score.index == df_rep_score.index))"
   ]
  },
  {
   "cell_type": "code",
   "execution_count": null,
   "metadata": {},
   "outputs": [],
   "source": [
    "score = 0\n",
    "for i in range(24):\n",
    "    if int(df_rep_score.iloc[i]) == int(df_orig_score.iloc[i]):\n",
    "        score += 1\n",
    "    else:\n",
    "        print('index:', df_orig_score.index[i])\n",
    "        print('Original exp score:', int(df_orig_score.iloc[i]), '|', 'Reproducility exp score:', int(df_rep_score.iloc[i]))\n",
    "        print('*'*20)\n",
    "print('Reproducibility is ', score/24*100, '%')"
   ]
  },
  {
   "cell_type": "code",
   "execution_count": null,
   "metadata": {},
   "outputs": [],
   "source": [
    "df_orig_score.values.ravel()"
   ]
  },
  {
   "cell_type": "code",
   "execution_count": null,
   "metadata": {},
   "outputs": [],
   "source": [
    "df_rep_score.values.ravel()"
   ]
  },
  {
   "cell_type": "code",
   "execution_count": null,
   "metadata": {},
   "outputs": [],
   "source": [
    "import pandas as pd\n",
    "import seaborn as sn\n",
    "import matplotlib.pyplot as plt\n",
    "\n",
    "%matplotlib notebook\n",
    "confusion_matrix = pd.crosstab(df_orig_score['score'], df_rep_score['score'], rownames=['Original'], colnames=['Reproduced'])\n",
    "\n",
    "sn.heatmap(confusion_matrix, cmap=\"YlGnBu\", annot=True)\n",
    "plt.show()\n",
    "plt.savefig('Graphs/Confusion matrix of reproducibility.svg', format = \"svg\", transparent=True)"
   ]
  },
  {
   "cell_type": "code",
   "execution_count": null,
   "metadata": {},
   "outputs": [],
   "source": []
  }
 ],
 "metadata": {
  "kernelspec": {
   "display_name": "Python 3",
   "language": "python",
   "name": "python3"
  },
  "language_info": {
   "codemirror_mode": {
    "name": "ipython",
    "version": 3
   },
   "file_extension": ".py",
   "mimetype": "text/x-python",
   "name": "python",
   "nbconvert_exporter": "python",
   "pygments_lexer": "ipython3",
   "version": "3.8.3"
  }
 },
 "nbformat": 4,
 "nbformat_minor": 2
}
