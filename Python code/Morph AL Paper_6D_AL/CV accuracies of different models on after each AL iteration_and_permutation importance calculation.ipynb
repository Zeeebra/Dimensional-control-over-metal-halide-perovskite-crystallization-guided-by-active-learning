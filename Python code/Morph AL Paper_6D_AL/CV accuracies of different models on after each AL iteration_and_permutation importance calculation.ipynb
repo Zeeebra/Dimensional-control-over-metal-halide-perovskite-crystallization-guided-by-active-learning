{
 "cells": [
  {
   "cell_type": "code",
   "execution_count": null,
   "metadata": {},
   "outputs": [],
   "source": [
    "import numpy as np\n",
    "from numpy.random import random\n",
    "from numpy import vstack, hstack\n",
    "import pandas as pd\n",
    "from sklearn.datasets import make_blobs, make_classification\n",
    "from sklearn.ensemble import RandomForestClassifier\n",
    "from sklearn.tree import DecisionTreeClassifier\n",
    "from sklearn.model_selection import StratifiedShuffleSplit, train_test_split\n",
    "from sklearn.model_selection import cross_val_score\n",
    "from modAL.models import ActiveLearner\n",
    "from modAL.uncertainty import entropy_sampling, entropy_sampling, margin_sampling\n",
    "from modAL.batch import uncertainty_batch_sampling\n",
    "from modAL.uncertainty import classifier_uncertainty, classifier_margin, classifier_entropy\n",
    "from modAL.utils.selection import multi_argmax\n",
    "from Models import models, plot, sampling, expgen\n",
    "from Data.datasets import save_obj, load_obj, data_preprocess\n",
    "import matplotlib.pyplot as plt\n",
    "import matplotlib.animation as animation\n",
    "from mpl_toolkits.mplot3d import Axes3D\n",
    "from sklearn.preprocessing import StandardScaler\n",
    "from tqdm import tqdm"
   ]
  },
  {
   "cell_type": "markdown",
   "metadata": {},
   "source": [
    "### Import data from csv"
   ]
  },
  {
   "cell_type": "code",
   "execution_count": null,
   "metadata": {},
   "outputs": [],
   "source": [
    "# choose the ML model\n",
    "cf = load_obj('RandomForestClassifier_best')\n",
    "kNN = load_obj('kNN_best')\n",
    "GPC = load_obj('GPC_best')\n",
    "xgboost = load_obj('xgboost_best')\n",
    "SVM_rbf = load_obj('SVM_rbf_best')\n",
    "SVM_PUFK = load_obj('SVM_best')\n",
    "cv = StratifiedShuffleSplit(n_splits=5, test_size=0.2, random_state=42)\n",
    "\n",
    "classifier = {'RF': cf,\\\n",
    "             'kNN': kNN,\\\n",
    "             'GPC': GPC,\\\n",
    "             'xgboost': xgboost,\\\n",
    "             'SVM_rbf': SVM_rbf,\\\n",
    "             'SVM_PUFK': SVM_PUFK}\n",
    "\n",
    "# Import datasets\n",
    "df_3vs4vs1 = pd.read_csv('Data/006.morph phase mapping.csv')\n",
    "df_3vs4vs1.index = list(df_3vs4vs1['index'])\n",
    "df_3vs4vs1 = df_3vs4vs1.drop(['index'], axis = 1)\n",
    "\n",
    "df_34vs1 = pd.read_csv('Data/006.morph phase mapping_3and4vs1.csv')\n",
    "df_34vs1.index = list(df_34vs1['index'])\n",
    "df_34vs1 = df_34vs1.drop(['index'], axis = 1)\n",
    "\n",
    "df_3vs4 = pd.read_csv('Data/006.morph phase mapping_3vs4.csv')\n",
    "df_3vs4.index = list(df_3vs4['index'])\n",
    "df_3vs4 = df_3vs4.drop(['index'], axis = 1)\n",
    "\n",
    "prog = [48, 72, 96, 120, 144, 168, 192]\n",
    "prog_3vs4 = load_obj('index of class 3&4 for each AL iter_6KS')"
   ]
  },
  {
   "cell_type": "markdown",
   "metadata": {},
   "source": [
    "### Cross-vallidation score over whole dataset, with 6 classifiers."
   ]
  },
  {
   "cell_type": "code",
   "execution_count": null,
   "metadata": {},
   "outputs": [],
   "source": [
    "for k,j in enumerate(classifier):\n",
    "    \n",
    "    df_acc = pd.DataFrame(index = np.arange(len(prog)), columns = ['mean', 'std'])\n",
    "    \n",
    "    for i in range(len(prog)):\n",
    "        df_prog = df_3vs4vs1.iloc[0:prog[i],:]\n",
    "        score = cross_val_score(classifier[j], df_prog.drop(['score'], axis = 1), df_prog['score'], cv=cv)\n",
    "        df_acc['mean'].loc[i] = np.mean(score)\n",
    "        df_acc['std'].loc[i] = np.std(score)        \n",
    "    \n",
    "    df_acc.to_csv(j+'_accuracy for 6AL.csv')"
   ]
  },
  {
   "cell_type": "code",
   "execution_count": null,
   "metadata": {},
   "outputs": [],
   "source": [
    "for i in range(len(prog_3vs4)):\n",
    "    df_prog_3vs4 = df_3vs4.filter(prog_3vs4[i], axis = 0)\n",
    "    df_prog_3vs4 = df_prog_3vs4.filter([], axis = 1)\n",
    "    score = cross_val_score(GPC, df_prog_3vs4.drop(['score'], axis = 1), df_prog_3vs4['score'], cv=cv)\n",
    "    print('Prediction score after', i, 'active learning run: ', np.mean(score))\n",
    "    print('Prediction score std is', np.std(score))\n",
    "    print('*'*30)"
   ]
  },
  {
   "cell_type": "markdown",
   "metadata": {},
   "source": [
    "### Feature importance (permutation)"
   ]
  },
  {
   "cell_type": "code",
   "execution_count": null,
   "metadata": {},
   "outputs": [],
   "source": [
    "import eli5\n",
    "from eli5.sklearn import PermutationImportance\n",
    "# measure feature importance for df_34vs1\n",
    "\n",
    "perm_imp_34vs1 = []\n",
    "\n",
    "for train_index, test_index in tqdm(cv.split(df_34vs1.drop(['score'], axis = 1), df_34vs1.filter(['score'], axis = 1))):\n",
    "    \n",
    "    x_train = df_34vs1.drop(['score'], axis =1).iloc[train_index]\n",
    "    y_train = df_34vs1.filter(['score'], axis = 1).iloc[train_index]\n",
    "    \n",
    "    x_test = df_34vs1.drop(['score'], axis =1).iloc[test_index]\n",
    "    y_test = df_34vs1.filter(['score'], axis = 1).iloc[test_index]\n",
    "    \n",
    "    perm_imp = []\n",
    "    \n",
    "    cf.fit(x_train, y_train)\n",
    "    \n",
    "    for i in range(5):\n",
    "        importance = PermutationImportance(cf).fit(x_test, y_test)\n",
    "        perm_imp_34vs1.append(list(importance.feature_importances_))"
   ]
  },
  {
   "cell_type": "code",
   "execution_count": null,
   "metadata": {},
   "outputs": [],
   "source": [
    "perm_imp_34vs1 = np.array(perm_imp_34vs1)\n",
    "perm_imp_34vs1_mean = np.mean(perm_imp_34vs1, axis = 0)\n",
    "perm_imp_34vs1_std = np.std(perm_imp_34vs1, axis = 0)\n",
    "\n",
    "df_feat_perm_34vs1 = pd.DataFrame(index = ['mean','std'], \\\n",
    "                            columns = df_34vs1.columns[:-1], \\\n",
    "                            data = [perm_imp_34vs1_mean, perm_imp_34vs1_std])\n",
    "df_feat_perm_34vs1.to_csv('feature_importance_permutation_34vs1.csv')"
   ]
  },
  {
   "cell_type": "code",
   "execution_count": null,
   "metadata": {},
   "outputs": [],
   "source": [
    "df_feat_perm_34vs1"
   ]
  },
  {
   "cell_type": "code",
   "execution_count": null,
   "metadata": {},
   "outputs": [],
   "source": [
    "import eli5\n",
    "from eli5.sklearn import PermutationImportance\n",
    "# measure feature importance for df_3vs4\n",
    "\n",
    "perm_imp_3vs4 = []\n",
    "\n",
    "for train_index, test_index in tqdm(cv.split(df_3vs4.drop(['score'], axis = 1), df_3vs4.filter(['score'], axis = 1))):\n",
    "    \n",
    "    x_train = df_3vs4.drop(['score'], axis =1).iloc[train_index]\n",
    "    y_train = df_3vs4.filter(['score'], axis = 1).iloc[train_index]\n",
    "    \n",
    "    x_test = df_3vs4.drop(['score'], axis =1).iloc[test_index]\n",
    "    y_test = df_3vs4.filter(['score'], axis = 1).iloc[test_index]\n",
    "    \n",
    "    perm_imp = []\n",
    "    \n",
    "    cf.fit(x_train, y_train)\n",
    "    \n",
    "    for i in range(5):\n",
    "        importance = PermutationImportance(cf).fit(x_test, y_test)\n",
    "        perm_imp_3vs4.append(list(importance.feature_importances_))"
   ]
  },
  {
   "cell_type": "code",
   "execution_count": null,
   "metadata": {},
   "outputs": [],
   "source": [
    "perm_imp_3vs4 = np.array(perm_imp_3vs4)\n",
    "perm_imp_3vs4_mean = np.mean(perm_imp_3vs4, axis = 0)\n",
    "perm_imp_3vs4_std = np.std(perm_imp_3vs4, axis = 0)\n",
    "\n",
    "df_feat_perm_3vs4 = pd.DataFrame(index = ['mean','std'], \\\n",
    "                            columns = df_3vs4.columns[:-1], \\\n",
    "                            data = [perm_imp_3vs4_mean, perm_imp_3vs4_std])\n",
    "df_feat_perm_3vs4.to_csv('feature_importance_permutation_3vs4.csv')"
   ]
  },
  {
   "cell_type": "code",
   "execution_count": null,
   "metadata": {},
   "outputs": [],
   "source": [
    "df_feat_perm_3vs4"
   ]
  }
 ],
 "metadata": {
  "kernelspec": {
   "display_name": "Python 3",
   "language": "python",
   "name": "python3"
  },
  "language_info": {
   "codemirror_mode": {
    "name": "ipython",
    "version": 3
   },
   "file_extension": ".py",
   "mimetype": "text/x-python",
   "name": "python",
   "nbconvert_exporter": "python",
   "pygments_lexer": "ipython3",
   "version": "3.8.3"
  }
 },
 "nbformat": 4,
 "nbformat_minor": 2
}
