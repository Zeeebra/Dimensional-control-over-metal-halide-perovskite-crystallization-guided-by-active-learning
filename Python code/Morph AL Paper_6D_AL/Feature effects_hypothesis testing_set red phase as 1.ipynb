{
 "cells": [
  {
   "cell_type": "code",
   "execution_count": null,
   "metadata": {},
   "outputs": [],
   "source": [
    "import numpy as np\n",
    "import random\n",
    "import math\n",
    "import pandas as pd\n",
    "import seaborn as sns\n",
    "import scipy\n",
    "from tqdm import tqdm\n",
    "from Data.datasets import save_obj, load_obj"
   ]
  },
  {
   "cell_type": "markdown",
   "metadata": {},
   "source": [
    "# import active learning data csv files"
   ]
  },
  {
   "cell_type": "code",
   "execution_count": null,
   "metadata": {},
   "outputs": [],
   "source": [
    "df = pd.read_csv('Data/006.morph phase mapping.csv')\n",
    "df.index = list(df['index'])\n",
    "df = df.drop(['index'], axis = 1)\n",
    "df_score = df['score']\n",
    "\n",
    "df_pool = load_obj('8R homogeneous concentration statespace_new features_standardized (Pb2, morph, H2O and FAH constrained)')\n",
    "df_pool_nonstd = load_obj('8R homogeneous concentration statespace_new features (Pb2, morph, H2O and FAH constrained)')\n",
    "\n",
    "df = df_pool.filter(df.index, axis = 'index')\n",
    "df = df.filter(['morph', 'Pb', 'FAH', 'H2O'], axis = 1)\n",
    "df['score'] = df_score\n",
    "\n",
    "df_nonstd = df_pool_nonstd.filter(df.index, axis = 'index')\n",
    "df_nonstd = df_nonstd.filter(['morph', 'Pb', 'FAH', 'H2O'], axis = 1)\n",
    "df_nonstd['score'] = df_score\n",
    "\n",
    "# Convert AL dataset into binary\n",
    "df_bin = df.copy()\n",
    "df_bin = df_bin.drop(df_bin.index[df_bin['score']==1], axis = 0) # remove clear solution from the dataset\n",
    "\n",
    "df_bin_nonstd = df_nonstd.copy()\n",
    "df_bin_nonstd = df_bin_nonstd.drop(df_bin_nonstd.index[df_bin_nonstd['score']==1], axis = 0)\n",
    "\n",
    "score_bin = []\n",
    "for i in np.array(df_bin['score']):\n",
    "    score_bin.append(1) if i == 3 else score_bin.append(0)\n",
    "    \n",
    "df_bin['score'] = score_bin # binary 0 (class 4) and 1 (class 3)\n",
    "df_bin_nonstd['score'] = score_bin # binary 0 (class 4) and 1 (class 3)"
   ]
  },
  {
   "cell_type": "markdown",
   "metadata": {},
   "source": [
    "# Check if there is a plane that can separate yellow phase and red phase"
   ]
  },
  {
   "cell_type": "code",
   "execution_count": null,
   "metadata": {},
   "outputs": [],
   "source": [
    "df_fit = df_bin_nonstd.copy()"
   ]
  },
  {
   "cell_type": "markdown",
   "metadata": {},
   "source": [
    "### Fit the whole dataset"
   ]
  },
  {
   "cell_type": "code",
   "execution_count": null,
   "metadata": {},
   "outputs": [],
   "source": [
    "from sklearn.linear_model import LogisticRegression\n",
    "\n",
    "LR = LogisticRegression(solver='lbfgs')\n",
    "LR.fit(np.array(df_fit.drop(['score'], axis = 1)),\\\n",
    "       np.array(df_fit.filter(['score'], axis = 1)).ravel())\n",
    "\n",
    "print('accuracy: ', LR.score(np.array(df_fit.drop(['score'], axis = 1)), np.array(df_fit.filter(['score'], axis = 1)).ravel()))"
   ]
  },
  {
   "cell_type": "code",
   "execution_count": null,
   "metadata": {},
   "outputs": [],
   "source": [
    "LR.coef_[0]"
   ]
  },
  {
   "cell_type": "code",
   "execution_count": null,
   "metadata": {},
   "outputs": [],
   "source": [
    "LR.intercept_"
   ]
  },
  {
   "cell_type": "markdown",
   "metadata": {},
   "source": [
    "### check cross validation for the regression model"
   ]
  },
  {
   "cell_type": "code",
   "execution_count": null,
   "metadata": {},
   "outputs": [],
   "source": [
    "from sklearn.model_selection import StratifiedShuffleSplit, train_test_split\n",
    "from sklearn.metrics import accuracy_score\n",
    "from sklearn.linear_model import LogisticRegression\n",
    "\n",
    "cv = StratifiedShuffleSplit(n_splits=5, test_size=0.2, random_state=42)\n",
    "accuracy_arr = []\n",
    "coef_arr = []\n",
    "intercept_arr = []\n",
    "\n",
    "for train_index, test_index in tqdm(cv.split(df_fit.drop(['score'], axis = 1), df_fit.filter(['score'], axis = 1))):\n",
    "    \n",
    "    LR = LogisticRegression(solver='lbfgs')\n",
    "    x_train = np.array(df_fit.drop(['score'], axis =1).iloc[train_index])\n",
    "    y_train = np.array(df_fit.filter(['score'], axis = 1).iloc[train_index]).ravel()\n",
    "    \n",
    "    x_test = np.array(df_fit.drop(['score'], axis =1).iloc[test_index])\n",
    "    y_test = np.array(df_fit.filter(['score'], axis = 1).iloc[test_index]).ravel()\n",
    "    \n",
    "    LR.fit(x_train, y_train)\n",
    "    accuracy_arr.append(accuracy_score(y_test, LR.predict(x_test)))\n",
    "    coef_arr.append(list(LR.coef_[0]))\n",
    "    intercept_arr.append(list(LR.intercept_))\n",
    "\n",
    "accuracy_arr = np.array(accuracy_arr)\n",
    "coef_arr = np.array(coef_arr)\n",
    "intercept_arr = np.array(intercept_arr)"
   ]
  },
  {
   "cell_type": "code",
   "execution_count": null,
   "metadata": {},
   "outputs": [],
   "source": [
    "accuracy_arr.mean()"
   ]
  },
  {
   "cell_type": "markdown",
   "metadata": {},
   "source": [
    "### Visualization of LR plane"
   ]
  },
  {
   "cell_type": "code",
   "execution_count": null,
   "metadata": {},
   "outputs": [],
   "source": [
    "import matplotlib.pyplot as plt\n",
    "import matplotlib.animation as animation\n",
    "from mpl_toolkits.mplot3d import Axes3D\n",
    "\n",
    "xx, yy = np.meshgrid(range(int(round(df_bin['morph/Pb'].min()))-1, int(round(df_bin['morph/Pb'].max()))+1), \\\n",
    "                     range(int(round(df_bin['FAH'].min()))-1, int(round(df_bin['FAH'].max()))+2))\n",
    "zz = (-LR.coef_[0][0] * xx - LR.coef_[0][1] * yy - LR.intercept_[0])/LR.coef_[0][2]\n",
    "\n",
    "%matplotlib notebook\n",
    "\n",
    "# plot the surface\n",
    "ax = plt.figure(figsize = (10,7)).gca(projection='3d')\n",
    "ax.plot_surface(xx, yy, zz, alpha=0.2, color = 'gray')\n",
    "\n",
    "ax.scatter(df_bin['morph/Pb'][df_bin['score'] == 0],\\\n",
    "           df_bin['FAH'][df_bin['score'] == 0],\\\n",
    "           df_bin['H2O'][df_bin['score'] == 0],\\\n",
    "           c = 'red', s = 20, alpha = 0.8, linewidths = 0, label = 'Red phase')\n",
    "ax.scatter(df_bin['morph/Pb'][df_bin['score'] == 1],\\\n",
    "           df_bin['FAH'][df_bin['score'] == 1],\\\n",
    "           df_bin['H2O'][df_bin['score'] == 1],\\\n",
    "           facecolors='none', edgecolors='blue', linewidths = 1.5, c = 'blue', s = 50, alpha = 0.2, label = 'Yellow phase')\n",
    "\n",
    "ax.set_xlim(-2, 5)\n",
    "ax.set_ylim(-2, 4)\n",
    "ax.set_zlim(-5, 5)\n",
    "ax.set_xlabel('morph/Pb')\n",
    "ax.set_ylabel('FAH')\n",
    "ax.set_zlabel('H2O')\n",
    "    \n",
    "plt.legend()\n",
    "plt.savefig('Graphs_2/3D projection_morph_Pb_FAH, H2O_stand for 6 AL.png', format = \"png\", transparent=True)"
   ]
  },
  {
   "cell_type": "code",
   "execution_count": null,
   "metadata": {},
   "outputs": [],
   "source": [
    "'log(morph)', 'log(Pb)'"
   ]
  },
  {
   "cell_type": "code",
   "execution_count": null,
   "metadata": {},
   "outputs": [],
   "source": [
    "import matplotlib.pyplot as plt\n",
    "import matplotlib.animation as animation\n",
    "from mpl_toolkits.mplot3d import Axes3D\n",
    "\n",
    "\n",
    "\n",
    "%matplotlib notebook\n",
    "\n",
    "# plot the surface\n",
    "\n",
    "fig = plt.figure()\n",
    "ax = fig.add_subplot()\n",
    "\n",
    "ax.scatter(df_fit['log(morph)'][df_fit['score'] == 0],\\\n",
    "           df_fit['log(Pb)'][df_fit['score'] == 0],\\\n",
    "           c = 'red', s = 20, alpha = 0.8, linewidths = 0, label = 'Red phase')\n",
    "ax.scatter(df_fit['log(morph)'][df_fit['score'] == 1],\\\n",
    "           df_fit['log(Pb)'][df_fit['score'] == 1],\\\n",
    "           facecolors='none', edgecolors='blue', linewidths = 1.5, c = 'blue', s = 50, alpha = 0.2, label = 'Yellow phase')\n",
    "\n",
    "ax.set_xlabel('ln(morph)')\n",
    "ax.set_ylabel('ln(Pb)')\n",
    "plt.legend()"
   ]
  },
  {
   "cell_type": "markdown",
   "metadata": {},
   "source": [
    "#### Validate logistic regression fitting and resulting coefficient and intercept"
   ]
  },
  {
   "cell_type": "code",
   "execution_count": null,
   "metadata": {},
   "outputs": [],
   "source": [
    "def sigmoid(x):\n",
    "  return 1 / (1 + np.exp(-x))\n",
    "\n",
    "y_lr_predict = sigmoid(np.dot(np.array(df_bin.drop(['score'], axis = 1)), LR.coef_[0]) + LR.intercept_).round()"
   ]
  },
  {
   "cell_type": "code",
   "execution_count": null,
   "metadata": {},
   "outputs": [],
   "source": [
    "y_true = np.array(df_bin.filter(['score'], axis = 1)).ravel()"
   ]
  },
  {
   "cell_type": "code",
   "execution_count": null,
   "metadata": {},
   "outputs": [],
   "source": [
    "from sklearn.metrics import accuracy_score\n",
    "accuracy_score(y_true, y_lr_predict)"
   ]
  },
  {
   "cell_type": "markdown",
   "metadata": {},
   "source": [
    "#### Create animation of the 3D plot with decision plane"
   ]
  },
  {
   "cell_type": "code",
   "execution_count": null,
   "metadata": {},
   "outputs": [],
   "source": [
    "import matplotlib.animation"
   ]
  },
  {
   "cell_type": "markdown",
   "metadata": {},
   "source": [
    "# Hypothesis test for feature effect"
   ]
  },
  {
   "cell_type": "code",
   "execution_count": null,
   "metadata": {},
   "outputs": [],
   "source": [
    "# Set the parameters for bootstrapping\n",
    "sub_sample_frac = 1 # fraction of data for each bootrapping\n",
    "sub_sample_numb = round(len(df_bin)*sub_sample_frac) # number of data for each bootstrapping\n",
    "sample_num = 1000 # Times of bootstrapping will be performed\n",
    "\n",
    "\n",
    "from sklearn.linear_model import LogisticRegression\n",
    "LR = LogisticRegression(solver='lbfgs')\n",
    "coeff_arr = [] # coefficient for all features in each bootstrapping\n",
    "\n",
    "for iteration in tqdm(range(sample_num)):\n",
    "    idx = random.choices(list(df_bin.index), k = sub_sample_numb) # sample index (with replacement)\n",
    "    df_train = df_bin.filter(idx, axis = 0) # index the samples\n",
    "    \n",
    "    # fit the LR with samples\n",
    "    if True: #(0 in list(df_train['score'])) & (1 in list(df_train['score'])):\n",
    "        LR.fit(np.array(df_train.drop(['score'], axis = 1)),\\\n",
    "               np.array(df_train.filter(['score'], axis = 1)).ravel())\n",
    "        coeff_arr.append(list(LR.coef_[0]))\n",
    "    else:\n",
    "        coeff_arr.append([0]*(len(df_train.columns)-1)) # if there is only one class in the sample, set the coefficient = 0\n",
    "\n",
    "coeff_arr = np.array(coeff_arr)"
   ]
  },
  {
   "cell_type": "code",
   "execution_count": null,
   "metadata": {},
   "outputs": [],
   "source": [
    "# convert the coefficient numpy array to coefficient dataframe, and save it to an obj and a csv\n",
    "coeff_df = pd.DataFrame(data = coeff_arr, columns = df_fit.columns[:-1])\n",
    "save_obj(coeff_df, 'LG_coefficients(slopes)_dataframe_red phase')\n",
    "coeff_df.to_csv('LG_coefficients(slopes)_dataframe_red phase.csv')"
   ]
  },
  {
   "cell_type": "code",
   "execution_count": null,
   "metadata": {},
   "outputs": [],
   "source": [
    "for i in coeff_df.columns:\n",
    "    print('slope for',i, 'is', coeff_df[i].mean(), \"+-\", coeff_df[i].std())"
   ]
  },
  {
   "cell_type": "code",
   "execution_count": null,
   "metadata": {},
   "outputs": [],
   "source": [
    "import matplotlib.pyplot as plt\n",
    "%matplotlib inline\n",
    "\n",
    "for i in range(coeff_arr.shape[1]):\n",
    "    fig = plt.figure(figsize = (6,6))\n",
    "    plt.style.use('seaborn-whitegrid')\n",
    "    ax = fig.add_subplot()\n",
    "    ax.hist(coeff_arr[:,i], density=False, bins =15, color = 'g', alpha = 1, linewidth = 1)\n",
    "    plt.xlabel('Slope of logistic regression')\n",
    "    plt.ylabel('Count')\n",
    "    plt.title(df_bin.columns[i])\n",
    "    plt.legend()\n",
    "    #plt.grid(True)\n",
    "    plt.savefig('Graphs_2/LG slope_'+df_bin.columns[i]+'_5 AL + KS_red phase as 1.svg', format = \"svg\", transparent=True, dpi = 1000)"
   ]
  },
  {
   "cell_type": "code",
   "execution_count": null,
   "metadata": {},
   "outputs": [],
   "source": [
    "# Test null hypothesis: feature coefficient = 0\n",
    "feat_index = 3\n",
    "feat_mean = np.mean(coeff_arr[:,feat_index])\n",
    "feat_std = np.std(coeff_arr[:,feat_index])\n",
    "\n",
    "sig_lvl = 0.01/(df_bin.shape[1]-1) # Bonferroni correction (multiple testing correction)\n",
    "p = 1-(sig_lvl) # calculate the confidence value\n",
    "\n",
    "z0 = scipy.stats.norm.ppf(p)\n",
    "z = (feat_mean-0)/(feat_std/math.sqrt(sample_num))\n",
    "print ('feature: ', df_bin.columns[feat_index])\n",
    "print ('z0 is ', z0)\n",
    "print ('z is ', z)"
   ]
  },
  {
   "cell_type": "code",
   "execution_count": null,
   "metadata": {},
   "outputs": [],
   "source": []
  }
 ],
 "metadata": {
  "kernelspec": {
   "display_name": "Python 3",
   "language": "python",
   "name": "python3"
  },
  "language_info": {
   "codemirror_mode": {
    "name": "ipython",
    "version": 3
   },
   "file_extension": ".py",
   "mimetype": "text/x-python",
   "name": "python",
   "nbconvert_exporter": "python",
   "pygments_lexer": "ipython3",
   "version": "3.8.3"
  }
 },
 "nbformat": 4,
 "nbformat_minor": 2
}
