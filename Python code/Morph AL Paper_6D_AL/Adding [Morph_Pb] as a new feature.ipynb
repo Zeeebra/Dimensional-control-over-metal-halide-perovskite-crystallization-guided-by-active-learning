{
 "cells": [
  {
   "cell_type": "code",
   "execution_count": null,
   "metadata": {},
   "outputs": [],
   "source": [
    "import numpy as np\n",
    "from numpy.random import random\n",
    "from numpy import vstack, hstack\n",
    "import pandas as pd\n",
    "import matplotlib.pyplot as plt\n",
    "import matplotlib.animation as animation\n",
    "from mpl_toolkits.mplot3d import Axes3D\n",
    "from sklearn.preprocessing import StandardScaler\n",
    "from tqdm import tqdm\n",
    "from Data.datasets import save_obj, load_obj"
   ]
  },
  {
   "cell_type": "code",
   "execution_count": null,
   "metadata": {},
   "outputs": [],
   "source": [
    "df = pd.read_csv('Data/006.morph phase mapping_nonstd.csv')\n",
    "df.index = list(df['index'])\n",
    "df_score = df.filter(['score'], axis = 1)\n",
    "df = df.drop(['index', 'score'], axis = 1)\n",
    "\n",
    "# df_pool = load_obj('8R homogeneous concentration statespace (Pb2, morph, H2O and FAH constrained)')\n",
    "\n",
    "# df = df_pool.filter(df_orig.index, axis = 'index')\n",
    "# df_std = df_pool_std.filter(df_orig.index, axis = 'index')"
   ]
  },
  {
   "cell_type": "code",
   "execution_count": null,
   "metadata": {},
   "outputs": [],
   "source": [
    "# df_pool['log(Pb)'] = list(np.log(df_pool['Pb']).replace([np.inf, -np.inf], 0))\n",
    "# df_pool['log(morph)'] = list(np.log(df_pool['morph']).replace([np.inf, -np.inf], 0))\n",
    "# df_pool['morph/Pb'] = df_pool['morph']/df_pool['Pb']\n",
    "# df_pool['log(morph/Pb)'] = list(np.log(df_pool['morph/Pb']).replace([np.inf, -np.inf], 0))\n",
    "# df_pool['log(H2O)'] = list(np.log(df_pool['H2O']).replace([np.inf, -np.inf], 0))\n",
    "# df_pool['log(FAH)'] = list(np.log(df_pool['FAH']).replace([np.inf, -np.inf], 0))\n",
    "# save_obj(df_pool, '8R homogeneous concentration statespace_new features (Pb2, morph, H2O and FAH constrained)')\n",
    "\n",
    "# from sklearn.preprocessing import StandardScaler\n",
    "# df_pool_std = StandardScaler().fit_transform(df_pool)\n",
    "# df_pool_std = pd.DataFrame(columns = df_pool.columns, \\\n",
    "#                            index = df_pool.index, \\\n",
    "#                            data = df_pool_std)\n",
    "# save_obj(df_pool_std, '8R homogeneous concentration statespace_new features_standardized (Pb2, morph, H2O and FAH constrained)')"
   ]
  },
  {
   "cell_type": "markdown",
   "metadata": {},
   "source": [
    "### Visualize the points using [Morph]/[Pb] as a feature"
   ]
  },
  {
   "cell_type": "code",
   "execution_count": null,
   "metadata": {},
   "outputs": [],
   "source": [
    "from itertools import combinations\n",
    "clist = ['blue','green','red','orange']\n",
    "slist = [150, 0, 40, 80]\n",
    "alphalist = [0.5,0,0.8,0.8]\n",
    "\n",
    "y_list = ['morph', 'Pb', 'FAH', 'H2O']\n",
    "\n",
    "for i in list(combinations(y_list, 2)):\n",
    "    fig = plt.figure(figsize = (6,6))\n",
    "    ax = fig.add_subplot()\n",
    "    \n",
    "    ax.scatter(df[i[0]][df_score['score'] == 3],\\\n",
    "               df[i[1]][df_score['score'] == 3],\\\n",
    "               c = clist[2], s = slist[2], alpha = alphalist[2], linewidths = 0, label = 'Red phase')\n",
    "    \n",
    "    ax.scatter(df[i[0]][df_score['score'] == 4],\\\n",
    "               df[i[1]][df_score['score'] == 4],\\\n",
    "               facecolors='none', edgecolors=clist[3], linewidths = 1.5, s = slist[3], alpha = alphalist[3], label = 'Yellow phase')\n",
    "\n",
    "#     ax.scatter(df[i[0]][df_score['score'] == 1,\\\n",
    "#                df[i[1]][df_score['score'] == 1],\\\n",
    "#                facecolors='none', edgecolors=clist[0], linewidths = 1, s = slist[0], alpha = alphalist[0], label = 'Clear solution')\n",
    "    \n",
    "    plt.xlabel(i[0])\n",
    "    plt.ylabel(i[1])\n",
    "    plt.legend()\n",
    "    plt.savefig('Graphs_2/2D projection_'+i[0]+'_'+i[1]+'_5AL+KS.svg', format = \"svg\", transparent=True)"
   ]
  },
  {
   "cell_type": "markdown",
   "metadata": {},
   "source": [
    "### Visualize the points in 3D space: [Morph]/[Pb], [FAH],and [H2O]"
   ]
  },
  {
   "cell_type": "code",
   "execution_count": null,
   "metadata": {},
   "outputs": [],
   "source": [
    "coeff = np.array([-2.87693344,  1.07723441,  1.40760739])\n",
    "intercept = np.array([-1.56718218])\n",
    "xx, yy = np.meshgrid(range(12), range(16))\n",
    "zz = (-coeff[0] * xx - coeff[1] * yy - intercept[0])/coeff[2]"
   ]
  },
  {
   "cell_type": "code",
   "execution_count": null,
   "metadata": {},
   "outputs": [],
   "source": [
    "%matplotlib notebook\n",
    "fig = plt.figure(figsize = (6,6))\n",
    "ax = fig.add_subplot(111, projection ='3d')\n",
    "\n",
    "# plot the surface\n",
    "ax = plt.figure().gca(projection='3d')\n",
    "# ax.plot_surface(xx, yy, zz, alpha=0.2)\n",
    "\n",
    "ax.scatter(df['log(morph/Pb)'][df_score['score'] == 3],\\\n",
    "           df['FAH'][df_score['score'] == 3],\\\n",
    "           df['H2O'][df_score['score'] == 3],\\\n",
    "           c = 'red', s = 20, alpha = 0.8, linewidths = 0, label = 'Red phase')\n",
    "ax.scatter(df['log(morph/Pb)'][df_score['score'] == 4],\\\n",
    "           df['FAH'][df_score['score'] == 4],\\\n",
    "           df['H2O'][df_score['score'] == 4],\\\n",
    "           c = 'orange', s = 20, alpha = 0.8, linewidths = 0, label = 'yellow phase') # facecolors='none', edgecolors='blue', linewidths = 1.5, c = 'blue', s = 50, alpha = 0.2, label = 'Yellow phase'\n",
    "\n",
    "#ax.set_xlim(0, 1)\n",
    "#ax.set_ylim(0, 16)\n",
    "#ax.set_zlim(0, 14)\n",
    "ax.view_init(elev=21, azim=-64)\n",
    "ax.set_xlabel('morph/Pb')\n",
    "ax.set_ylabel('FAH')\n",
    "ax.set_zlabel('H2O')\n",
    "    \n",
    "plt.legend()\n",
    "plt.savefig('Graphs_2/3D projection_log(morph|Pb)_FAH, H2O for 5 AL.svg', format = \"svg\", transparent=True)"
   ]
  },
  {
   "cell_type": "markdown",
   "metadata": {},
   "source": [
    "### Testing prediction accuracy just using [H2O] and [morph]/Pb"
   ]
  },
  {
   "cell_type": "code",
   "execution_count": null,
   "metadata": {},
   "outputs": [],
   "source": [
    "prog_3vs4 = load_obj('index of class 3&4 for each AL iter_6KS')"
   ]
  },
  {
   "cell_type": "code",
   "execution_count": null,
   "metadata": {},
   "outputs": [],
   "source": [
    "from sklearn.model_selection import StratifiedShuffleSplit\n",
    "from sklearn.model_selection import cross_val_score\n",
    "cv = StratifiedShuffleSplit(n_splits=5, test_size=0.2, random_state=42)\n",
    "clf = load_obj('RandomForestClassifier_best')"
   ]
  },
  {
   "cell_type": "code",
   "execution_count": null,
   "metadata": {},
   "outputs": [],
   "source": [
    "df_std_prog.columns"
   ]
  },
  {
   "cell_type": "code",
   "execution_count": null,
   "metadata": {},
   "outputs": [],
   "source": [
    "# calculate cross-validation score with original feature\n",
    "accuracy_origin = []\n",
    "for i in range(len(prog_3vs4)):\n",
    "    df_std_prog = df_std.filter(prog_3vs4[i], axis = 0)\n",
    "    df_score_prog = df_score.filter(prog_3vs4[i], axis = 0)\n",
    "    score = cross_val_score(clf, np.array(df_std_prog.filter(['Pb', 'morph', 'DMSO', 'GBL', 'FAH', 'H2O'], axis = 1)), \\\n",
    "                            np.array(df_score_prog).ravel(), cv=cv)\n",
    "    \n",
    "    accuracy_origin.append([np.mean(score), np.std(score)])\n",
    "    \n",
    "accuracy_origin = pd.DataFrame(index = np.arange(len(prog_3vs4)), data = np.array(accuracy_origin), columns = ['mean', 'std'])\n",
    "accuracy_origin.to_csv('cross_val score_original feature_RF.csv')"
   ]
  },
  {
   "cell_type": "code",
   "execution_count": null,
   "metadata": {},
   "outputs": [],
   "source": [
    "# calculate cross-validation score with 'H2O', 'morph', 'Pb', 'FAH'\n",
    "accuracy_1 = []\n",
    "for i in range(len(prog_3vs4)):\n",
    "    df_std_prog = df_std.filter(prog_3vs4[i], axis = 0)\n",
    "    df_score_prog = df_score.filter(prog_3vs4[i], axis = 0)\n",
    "    score = cross_val_score(clf, np.array(df_std_prog.filter(['morph','Pb','H2O','FAH'], axis = 1)), \\\n",
    "                            np.array(df_score_prog).ravel(), cv=cv)\n",
    "    \n",
    "    accuracy_1.append([np.mean(score), np.std(score)])\n",
    "    \n",
    "accuracy_1 = pd.DataFrame(index = np.arange(len(prog_3vs4)), data = np.array(accuracy_1), columns = ['mean', 'std'])\n",
    "accuracy_1.to_csv('cross_val score_morph_Pb_H2O_FAH_RF.csv')"
   ]
  },
  {
   "cell_type": "code",
   "execution_count": null,
   "metadata": {},
   "outputs": [],
   "source": [
    "# calculate cross-validation score with only morph/Pb and H2O as features\n",
    "accuracy_2 = []\n",
    "for i in range(len(prog_3vs4)):\n",
    "    df_std_prog = df_std.filter(prog_3vs4[i], axis = 0)\n",
    "    df_score_prog = df_score.filter(prog_3vs4[i], axis = 0)\n",
    "    score = cross_val_score(GPC, np.array(df_std_prog.filter(['morph/Pb', 'H2O'], axis = 1)), \\\n",
    "                            np.array(df_score_prog).ravel(), cv=cv)\n",
    "    \n",
    "    accuracy_2.append([np.mean(score), np.std(score)])\n",
    "    \n",
    "accuracy_2 = pd.DataFrame(index = np.arange(len(prog_3vs4)), data = np.array(accuracy_2), columns = ['mean', 'std'])\n",
    "accuracy_2.to_csv('cross_val score_morph|Pb_H2O_GPC.csv')"
   ]
  },
  {
   "cell_type": "code",
   "execution_count": null,
   "metadata": {},
   "outputs": [],
   "source": [
    "# calculate cross-validation score with only morph/Pb as feature\n",
    "accuracy_3 = []\n",
    "for i in range(len(prog_3vs4)):\n",
    "    df_std_prog = df_std.filter(prog_3vs4[i], axis = 0)\n",
    "    df_score_prog = df_score.filter(prog_3vs4[i], axis = 0)\n",
    "    score = cross_val_score(GPC, np.array(df_std_prog.filter(['morph/Pb'], axis = 1)), \\\n",
    "                            np.array(df_score_prog).ravel(), cv=cv)\n",
    "    \n",
    "    accuracy_3.append([np.mean(score), np.std(score)])\n",
    "    \n",
    "accuracy_3 = pd.DataFrame(index = np.arange(len(prog_3vs4)), data = np.array(accuracy_3), columns = ['mean', 'std'])\n",
    "accuracy_3.to_csv('cross_val score_morph|Pb_GPC.csv')"
   ]
  },
  {
   "cell_type": "code",
   "execution_count": null,
   "metadata": {},
   "outputs": [],
   "source": [
    "list(df_score.filter(prog_3vs4[6], axis = 0)['score']).count(3)"
   ]
  },
  {
   "cell_type": "code",
   "execution_count": null,
   "metadata": {},
   "outputs": [],
   "source": [
    "list(df_score.filter(prog_3vs4[6], axis = 0)['score']).count(4)"
   ]
  },
  {
   "cell_type": "markdown",
   "metadata": {},
   "source": [
    "### Analyzing feature importance through permutation of features"
   ]
  },
  {
   "cell_type": "code",
   "execution_count": null,
   "metadata": {},
   "outputs": [],
   "source": [
    "import eli5\n",
    "from eli5.sklearn import PermutationImportance\n",
    "\n",
    "perm_imp = []\n",
    "\n",
    "df_3vs4_6th = df_std.filter(prog_3vs4[6], axis = 0).filter(['Pb', 'morph', 'DMSO', 'GBL', 'FAH', 'H2O'], axis = 1)\n",
    "df_3vs4_6th_score = df_score.filter(prog_3vs4[6], axis = 0)\n",
    "\n",
    "for train_index, test_index in cv.split(df_3vs4_6th, df_3vs4_6th_score):\n",
    "    x_train = np.array(df_3vs4_6th.iloc[train_index])\n",
    "    y_train = np.array(df_3vs4_6th_score.iloc[train_index]).ravel()\n",
    "    \n",
    "    x_test = np.array(df_3vs4_6th.iloc[test_index])\n",
    "    y_test = np.array(df_3vs4_6th_score.iloc[test_index]).ravel()\n",
    "    \n",
    "    GPC.fit(x_train, y_train)\n",
    "    \n",
    "    importance = PermutationImportance(GPC, random_state = 42).fit(x_test, y_test)\n",
    "    perm_imp.append(list(importance.feature_importances_))"
   ]
  },
  {
   "cell_type": "code",
   "execution_count": null,
   "metadata": {},
   "outputs": [],
   "source": [
    "perm_imp_mean = np.mean(perm_imp, axis = 0)\n",
    "perm_imp_std = np.std(perm_imp, axis = 0)\n",
    "\n",
    "df_feat_perm = pd.DataFrame(index = ['mean','std'], \\\n",
    "                            columns = df_3vs4_6th.columns, \\\n",
    "                            data = [perm_imp_mean, perm_imp_std])\n",
    "\n",
    "df_feat_perm.to_csv('feature_importance_permutation_original_GPC.csv')"
   ]
  },
  {
   "cell_type": "code",
   "execution_count": null,
   "metadata": {},
   "outputs": [],
   "source": []
  }
 ],
 "metadata": {
  "kernelspec": {
   "display_name": "Python 3",
   "language": "python",
   "name": "python3"
  },
  "language_info": {
   "codemirror_mode": {
    "name": "ipython",
    "version": 3
   },
   "file_extension": ".py",
   "mimetype": "text/x-python",
   "name": "python",
   "nbconvert_exporter": "python",
   "pygments_lexer": "ipython3",
   "version": "3.8.3"
  }
 },
 "nbformat": 4,
 "nbformat_minor": 2
}
