{
 "cells": [
  {
   "cell_type": "code",
   "execution_count": 1,
   "metadata": {},
   "outputs": [],
   "source": [
    "import pandas as pd\n",
    "import matplotlib.pyplot as plt\n",
    "import numpy as np\n",
    "from Modules.UV import UV_process, UV_plot, Tauclinfit\n",
    "import ipywidgets as widgets\n",
    "from ipywidgets import widgets, interactive, interact, fixed"
   ]
  },
  {
   "cell_type": "markdown",
   "metadata": {},
   "source": [
    "### User Specify File Name and Blank Well ID"
   ]
  },
  {
   "cell_type": "code",
   "execution_count": 2,
   "metadata": {},
   "outputs": [],
   "source": [
    "# input spectra file name, the file is directly taken from Nirvana\n",
    "filename = '2021-03-09T16_51_58.txt'\n",
    "\n",
    "# specify blank samples, which could be removed from the plotting\n",
    "blank = ['B01','B02','B03','B04']"
   ]
  },
  {
   "cell_type": "markdown",
   "metadata": {},
   "source": [
    "### Process and Plot the UV-vis Spectra"
   ]
  },
  {
   "cell_type": "code",
   "execution_count": 3,
   "metadata": {},
   "outputs": [
    {
     "data": {
      "application/vnd.jupyter.widget-view+json": {
       "model_id": "f350d058af9843f29d2a2357b369fb83",
       "version_major": 2,
       "version_minor": 0
      },
      "text/plain": [
       "interactive(children=(Dropdown(description='Well ID', options=('All', 'A05', 'A07', 'A09', 'A11', 'C01', 'C03'…"
      ]
     },
     "metadata": {},
     "output_type": "display_data"
    }
   ],
   "source": [
    "spec_dict = UV_process (filename = filename, blank = blank, window_length = 31, polyorder = 2) # the last two parameters are for smoothing the spectra, belonging to Savitzky-Golay filter \n",
    "%matplotlib notebook\n",
    "UV_plot (spec_dict = spec_dict, legend_size = 8)"
   ]
  },
  {
   "cell_type": "markdown",
   "metadata": {},
   "source": [
    "### Linear fit on tauc plot and calculated bandgaps\n",
    "#### note: not all spectra can be fit using this code, and you need to adjust prominence value to achieve best result."
   ]
  },
  {
   "cell_type": "code",
   "execution_count": 4,
   "metadata": {},
   "outputs": [
    {
     "data": {
      "application/vnd.jupyter.widget-view+json": {
       "model_id": "743184aad8f74132bec70f9ade8c265f",
       "version_major": 2,
       "version_minor": 0
      },
      "text/plain": [
       "interactive(children=(FloatSlider(value=10.0, description='prominence', max=830.0, step=10.0), Output()), _dom…"
      ]
     },
     "metadata": {},
     "output_type": "display_data"
    },
    {
     "data": {
      "text/plain": [
       "<function Modules.UV.Tauclinfit(tauc, tauc_dev2, filename, prominence=10)>"
      ]
     },
     "execution_count": 4,
     "metadata": {},
     "output_type": "execute_result"
    }
   ],
   "source": [
    "%matplotlib notebook\n",
    "\n",
    "prominece_lim = max(max(spec_dict['2nd derivative of tauc plot'].max(axis=0)),\\\n",
    "                    abs(min(spec_dict['2nd derivative of tauc plot'].min(axis=0))))\n",
    "                                       \n",
    "interact(Tauclinfit, tauc = fixed(spec_dict['tauc plot (direct)']), \\\n",
    "         tauc_dev2 = fixed(spec_dict['2nd derivative of tauc plot']), \\\n",
    "         filename = fixed(filename), \\\n",
    "         prominence = (0, (prominece_lim//10)*10, 10))"
   ]
  },
  {
   "cell_type": "code",
   "execution_count": null,
   "metadata": {},
   "outputs": [],
   "source": []
  }
 ],
 "metadata": {
  "kernelspec": {
   "display_name": "Python 3",
   "language": "python",
   "name": "python3"
  },
  "language_info": {
   "codemirror_mode": {
    "name": "ipython",
    "version": 3
   },
   "file_extension": ".py",
   "mimetype": "text/x-python",
   "name": "python",
   "nbconvert_exporter": "python",
   "pygments_lexer": "ipython3",
   "version": "3.8.3"
  }
 },
 "nbformat": 4,
 "nbformat_minor": 2
}
