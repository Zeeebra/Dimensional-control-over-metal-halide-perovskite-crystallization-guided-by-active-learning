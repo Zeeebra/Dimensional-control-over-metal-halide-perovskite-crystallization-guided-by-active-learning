{
 "cells": [
  {
   "cell_type": "code",
   "execution_count": null,
   "metadata": {},
   "outputs": [],
   "source": [
    "import os\n",
    "import matplotlib.pyplot as plt\n",
    "import pandas as pd\n",
    "from mpl_toolkits.mplot3d import axes3d, Axes3D\n",
    "import optunity\n",
    "import random\n",
    "import numpy as np"
   ]
  },
  {
   "cell_type": "code",
   "execution_count": null,
   "metadata": {},
   "outputs": [],
   "source": [
    "# Import concentration data directly\n",
    "file = \"human_score.csv\"\n",
    "df=pd.read_csv(file)\n",
    "point = np.array(df)"
   ]
  },
  {
   "cell_type": "markdown",
   "metadata": {},
   "source": [
    "### Ploting with 2-D projection ###"
   ]
  },
  {
   "cell_type": "code",
   "execution_count": null,
   "metadata": {},
   "outputs": [],
   "source": [
    "amine_name = \"Morph\" # The ammonium you would like to plot\n",
    "x_range = [0, 3]\n",
    "y_range = [0, 3.5]\n",
    "z_range = [0, 18]\n",
    "xy_plane = z_range[0] - 6\n",
    "xz_plane = y_range[1] + 3\n",
    "yz_plane = x_range[0] - 2\n",
    "x_step = 0.5\n",
    "y_step = 0.5\n",
    "z_step = 2\n",
    "\n",
    "%matplotlib notebook\n",
    "\n",
    "# 3D plot\n",
    "color_type = ['blue','green','red','orange']\n",
    "color_type_2D = ['blue','green','red','orange']\n",
    "fig = plt.figure(figsize = (6,6))\n",
    "ax = fig.add_subplot(111, projection='3d')\n",
    "\n",
    "for i in range(1,5):\n",
    "    s = 8 if i == 4 else 8\n",
    "    ax.scatter(point[:,0][point[:,3]==i], \\\n",
    "               point[:,1][point[:,3]==i], \\\n",
    "               point[:,2][point[:,3]==i], \\\n",
    "               c = color_type[i-1], s = s, alpha=0.8)\n",
    "\n",
    "# 2D projections plot\n",
    "for i in range(1,5):\n",
    "    s = 8 if i == 4 else 8\n",
    "    ax.scatter(point[:,0][point[:,3]==i],point[:,2][point[:,3]==i], \\\n",
    "               marker = 'o', c = color_type_2D[i-1], s = s, zdir = 'y', zs = xz_plane, alpha=0.3)\n",
    "    ax.scatter(point[:,1][point[:,3]==i], point[:,2][point[:,3]==i], \\\n",
    "               marker = 'o', c = color_type_2D[i-1], s = s, zdir = 'x', zs = yz_plane, alpha=0.3)\n",
    "    ax.scatter(point[:,0][point[:,3]==i], point[:,1][point[:,3]==i], \\\n",
    "               marker = 'o', c = color_type_2D[i-1], s = s, zdir='z', zs = xy_plane, alpha=0.3)\n",
    "\n",
    "# make 2D planes with meshgrid and labels\n",
    "yy, zz = np.meshgrid(np.arange(y_range[0],y_range[1], y_step), np.arange(z_range[0],z_range[1],z_step))\n",
    "xx = np.ones((len(np.arange(z_range[0],z_range[1],z_step)), len(np.arange(y_range[0],y_range[1], y_step))))*yz_plane\n",
    "ax.plot_surface(xx,yy,zz, color = \"silver\", alpha = 0.1)\n",
    "ax.plot_wireframe(xx,yy,zz, color = \"black\", alpha = 0.1)\n",
    "\n",
    "\n",
    "xx, yy = np.meshgrid(np.arange(x_range[0],x_range[1], x_step), np.arange(y_range[0],y_range[1], y_step))\n",
    "zz = np.ones((len(np.arange(y_range[0],y_range[1], y_step)), len(np.arange(x_range[0],x_range[1], x_step))))*xy_plane\n",
    "ax.plot_surface(xx,yy,zz, color = \"silver\", alpha = 0.1)\n",
    "ax.plot_wireframe(xx,yy,zz, color = \"black\", alpha = 0.1)\n",
    "\n",
    "xx, zz = np.meshgrid(np.arange(x_range[0],x_range[1], x_step), np.arange(z_range[0],z_range[1],z_step))\n",
    "yy = np.ones((len(np.arange(z_range[0],z_range[1], z_step)), len(np.arange(x_range[0],x_range[1], x_step))))*xz_plane\n",
    "ax.plot_surface(xx,yy,zz, color = \"silver\", alpha = 0.1)\n",
    "ax.plot_wireframe(xx,yy,zz, color = \"black\", alpha = 0.1)\n",
    "\n",
    "\n",
    "ax.set_axis_off()\n",
    "ax.view_init(elev=13, azim=-143)\n",
    "ax.set_xlim(yz_plane,x_range[1])\n",
    "ax.set_ylim(y_range[0],xz_plane)\n",
    "ax.set_zlim(xy_plane,z_range[1])\n",
    "\n",
    "plt.savefig('Graphs/Outcome_plot_'+ amine_name + '_2nd initial sampling_2D_projection.svg', format = \"svg\", transparent=True)"
   ]
  },
  {
   "cell_type": "markdown",
   "metadata": {},
   "source": [
    "### Ploting without projection"
   ]
  },
  {
   "cell_type": "code",
   "execution_count": null,
   "metadata": {},
   "outputs": [],
   "source": [
    "amine_name = \"Morph\" # The ammonium you would like to plot\n",
    "\n",
    "color_type = ['blue','green','red','orange']\n",
    "\n",
    "%matplotlib notebook\n",
    "fig = plt.figure(figsize = (6,6))\n",
    "ax = fig.add_subplot(111, projection ='3d')\n",
    "for i in range(1,5):\n",
    "    s = 8 if i == 4 else 8\n",
    "    ax.scatter(point[:,0][point[:,3]==i], \\\n",
    "               point[:,1][point[:,3]==i], \\\n",
    "               point[:,2][point[:,3]==i], \\\n",
    "               c = color_type[i-1], s = s, alpha=0.8)\n",
    "    \n",
    "ax.set_xlim(0, 2.5)\n",
    "ax.set_ylim(0, 3)\n",
    "ax.set_zlim(0, 16)\n",
    "ax.view_init(elev=13, azim=-143)\n",
    "ax.set_xlabel('[Pb]')\n",
    "ax.set_ylabel('[morph]')\n",
    "ax.set_zlabel('[FAH]')\n",
    "    \n",
    "plt.legend()\n",
    "plt.savefig('Graphs/Outcome_plot_'+ amine_name + '_2nd initial sampling.svg', format = \"svg\", transparent=True)"
   ]
  },
  {
   "cell_type": "code",
   "execution_count": null,
   "metadata": {},
   "outputs": [],
   "source": []
  }
 ],
 "metadata": {
  "kernelspec": {
   "display_name": "Python 3",
   "language": "python",
   "name": "python3"
  },
  "language_info": {
   "codemirror_mode": {
    "name": "ipython",
    "version": 3
   },
   "file_extension": ".py",
   "mimetype": "text/x-python",
   "name": "python",
   "nbconvert_exporter": "python",
   "pygments_lexer": "ipython3",
   "version": "3.8.3"
  }
 },
 "nbformat": 4,
 "nbformat_minor": 2
}
